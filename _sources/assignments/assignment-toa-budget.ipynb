{
 "cells": [
  {
   "cell_type": "markdown",
   "id": "97e9ee72-7b59-4d26-9e67-afbf336d74af",
   "metadata": {},
   "source": [
    "# Top-of-Atmosphere Radiation Budget and Meridional Energy Transport\n",
    "\n",
    "## Overview and goals\n",
    "\n",
    "In this assignment you will use data from the [CERES-EBAF](https://ceres.larc.nasa.gov) product as we did in the [first set of lecture notes](../lectures/radiation-budget).\n",
    "\n",
    "This assigment has several goals:\n",
    "1. Build skills in loading and manipulating datasets\n",
    "1. Compute global averages\n",
    "1. Verify the data against a published result\n",
    "1. Learn the basic method for calculating meridional transport from local imbalances\n",
    "1. Apply that method to compute meridional energy transport from the CERES-EBAF data"
   ]
  },
  {
   "cell_type": "markdown",
   "id": "d9e413e3-4421-4d62-bc43-d6bf53f16d7f",
   "metadata": {},
   "source": [
    "## Problem 1: global, annual mean energy budgets\n",
    "\n",
    "Consider the first figure in our lecture notes from {cite:t}`Stephens:2012a` and reproduced again here:\n",
    "\n",
    ":::{figure-md} markdown-fig\n",
    "<img src=\"../images/stephens2012.png\" alt=\"Earth's Energy Balance\" class=\"bg-primary mb-1\" width=\"800px\">\n",
    "\n",
    "Your task here is simply to **reproduce as many of the values shown in this figure as you can** from the CERES-EBAF dataset. Remember that these values all represent long-term time averages and global averages, and that global averages must be properly weighted to account for the area of grid cells. *If you're looking for help on the area weighting, check out [this short lesson from the xarray docs](https://docs.xarray.dev/en/stable/examples/area_weighted_temperature.html?highlight=weighted%20average)*.\n",
    "\n",
    "Please include all your code here in the notebook, but also summarize your results clearly. This might be as a table, or formatted output from Python code, or any other way which is easy to read and compare against the values in the figure.\n",
    "\n",
    "Comment on any interesting similarities or differences that you find between your results and the values in the figure.\n",
    "\n",
    "To get you started, here is the same code we used in the lecture notes to access the CERES-EBAF data:"
   ]
  },
  {
   "cell_type": "code",
   "execution_count": null,
   "id": "b7d753b8-7e46-4b30-ad26-1cf10d3a7539",
   "metadata": {},
   "outputs": [],
   "source": [
    "import xarray as xr\n",
    "\n",
    "ceres_path = '/nfs/roselab_rit/data/CERES_EBAF/'\n",
    "ceres_filename_prefix = 'CERES_EBAF_Ed4.1_Subset_'\n",
    "ceres_files = [ceres_path + ceres_filename_prefix + '200003-201412.nc',\n",
    "               ceres_path + ceres_filename_prefix + '201501-202202.nc',]\n",
    "\n",
    "ceres = xr.open_mfdataset(ceres_files)\n",
    "ceres"
   ]
  },
  {
   "cell_type": "code",
   "execution_count": null,
   "id": "014a79ea-99b2-4c7d-9f34-d30e42c7361a",
   "metadata": {},
   "outputs": [],
   "source": [
    "# Your answer to Problem 1 begins here!"
   ]
  },
  {
   "cell_type": "markdown",
   "id": "c0630e99-1662-4daa-b9b3-9011c9ad1bf4",
   "metadata": {},
   "source": [
    "## Problem 2: Computing meridonal energy transport\n",
    "\n",
    "### The problem\n",
    "\n",
    "In this problem you will tackle the problem of computing the total meridional (i.e. north-south) energy transport that is implied from the net radiation imbalance at each latitude found in the CERES-EBAF data.\n",
    "\n",
    "An example of this was shown in [this figure in our lecture notes](https://brian-rose.github.io/general-circulation/lectures/radiation-budget.html#meridional-energy-transport). For this question, we will focus just on the *annual mean* energy transport.\n",
    "\n",
    "### A reading assignment\n",
    "\n",
    "The calculation involves **integrating the net imbalance (ASR - OLR) in latitude starting from one pole**. To understand how this works and see the specific formula for the integral, please read through [sections 4 and 5 of these notes from Brian Rose's *The Climate Laboratory*](https://brian-rose.github.io/ClimateLaboratoryBook/courseware/heat-transport.html#the-energy-budget-for-a-zonal-band).\n",
    "\n",
    "**IMPORTANT: if anything in those notes is unclear, please ask! This is material I want you to understand.**\n",
    "\n",
    "### The specific goal\n",
    "\n",
    "Your specific goal here is to produce one figure: a plot of the poleward energy transport (labeled in units of PW) implied by the CERES-EBAF data. A few notes about this:\n",
    "- You will need to take a long-term annual time average and also zonal average of the data, and carry out the integration in latitude. \n",
    "- Your figure should have just one single line plot\n",
    "- Compare this plot against the annual mean curve show in the lecture notes (linked above)\n",
    "\n",
    "### From your results, a few things to comment on:\n",
    "- What is the energy transport at the equator?\n",
    "    - Do you think this is consistent with the [observed hemispheric asymmetry in the OLR](https://brian-rose.github.io/general-circulation/lectures/radiation-budget.html#outgoing-longwave-radiation)?\n",
    "- Do your results show that the energy transport goes exactly to zero at both poles? If not, explain why, and whether this presents a contradiction of the method you used to compute the result."
   ]
  },
  {
   "cell_type": "code",
   "execution_count": null,
   "id": "11a5f92a-24a7-4a49-a1ec-4cc61ab16172",
   "metadata": {},
   "outputs": [],
   "source": [
    "# Your answer to Problem 2 begins here!"
   ]
  },
  {
   "cell_type": "code",
   "execution_count": null,
   "id": "1d84ecf0-9353-417f-b40b-277f3a0169ff",
   "metadata": {},
   "outputs": [],
   "source": []
  }
 ],
 "metadata": {
  "kernelspec": {
   "display_name": "Python 3 (ipykernel)",
   "language": "python",
   "name": "python3"
  },
  "language_info": {
   "codemirror_mode": {
    "name": "ipython",
    "version": 3
   },
   "file_extension": ".py",
   "mimetype": "text/x-python",
   "name": "python",
   "nbconvert_exporter": "python",
   "pygments_lexer": "ipython3",
   "version": "3.10.5"
  }
 },
 "nbformat": 4,
 "nbformat_minor": 5
}
