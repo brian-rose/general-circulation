{
 "cells": [
  {
   "cell_type": "markdown",
   "id": "e1774afc-ec5b-4135-bff8-3b573e0d523d",
   "metadata": {},
   "source": [
    "# Available Potential Energy\n",
    "\n",
    "These notes largely follow Chapter 7 of David Randall's *An Introduction to the Global Circulation of the Atmosphere* {cite}`Randall:globalcirc`"
   ]
  },
  {
   "cell_type": "markdown",
   "id": "ac23fcfc-8e59-430d-8a71-7a5521a511ed",
   "metadata": {},
   "source": [
    "## Definitions\n",
    "\n",
    "### Column energetics\n",
    "\n",
    "Under dry adiabatic and frictionless processes, the total energy of the atmosphere is conserved:\n",
    "\n",
    "$$ \\frac{d}{dt} \\int_V (c_v T + \\Phi + K ) \\rho dV $$\n",
    "\n",
    "where the integral is over the mass of the whole atmopshere."
   ]
  },
  {
   "cell_type": "markdown",
   "id": "d7ed1fb0-de8e-4796-8128-a2bf8baffde8",
   "metadata": {},
   "source": [
    "#### Hydrostatic relations\n",
    "\n",
    "Consider a single column of air. The total (vertically integrated) potential energy in a column is\n",
    "\n",
    "$$P \\equiv \\int_0^\\infty g z \\rho dz $$\n",
    "\n",
    "which, for a hydrostatic column where\n",
    "\n",
    "$$ \\frac{\\partial p}{\\partial z} = -\\rho g $$\n",
    "\n",
    "is equivalent to \n",
    "\n",
    "$$P = \\int_0^\\infty \\rho R T dz $$\n",
    "\n",
    "*(can you see why?)*\n",
    "\n",
    "This essentially expresses the fact a warmer column is \"taller\" than a cooler column and so contains more potential energy."
   ]
  },
  {
   "cell_type": "markdown",
   "id": "0016851e-2017-49bc-8302-04abc9d7c422",
   "metadata": {},
   "source": [
    "#### Column enthalpy\n",
    "\n",
    "Now the internal energy of the column is \n",
    "\n",
    "$$ I \\equiv \\int_0^\\infty c_v T \\rho dz $$\n",
    "\n",
    "so the sum of the internal and potential energies is \n",
    "\n",
    "\\begin{align*}\n",
    "P + I &= \\int_0^\\infty g z \\rho dz + \\int_0^\\infty c_v T \\rho dz \\\\\n",
    "&= \\int_0^\\infty (c_v + R) T \\rho dz \\\\\n",
    "&= \\int_0^\\infty c_p T \\rho dz\n",
    "\\end{align*}\n",
    "\n",
    "The vertically integrated sum of internal and potential energies is equal to the vertically integrated sum  of the *enthalpy* $H$ defined by\n",
    "$$ H \\equiv \\int_0^\\infty c_p T \\rho dz $$\n",
    "\n",
    "that is,\n",
    "\n",
    "$$ P+I = H $$\n",
    "\n",
    "(these statements are only true for the vertically mass-weighted integrals!)"
   ]
  },
  {
   "cell_type": "markdown",
   "id": "98492788-1913-4169-95a7-404df3f10df0",
   "metadata": {},
   "source": [
    "It then follows that for a frictionless, adiabatic atmosphere\n",
    "\n",
    "$$ \\frac{d}{dt} (H + K) = 0 $$"
   ]
  },
  {
   "cell_type": "markdown",
   "id": "655a8be9-2d62-4bf8-97ba-92537ff17115",
   "metadata": {},
   "source": [
    "### Available potential idea: basic definition\n",
    "\n",
    "Suppose we rearrange the atmopshere by moving parcels around adiabatically and without friction. The parcels' potential temperature (or entropy) do not change but their enthalpy / temperature do change. Suppose there is a unique state that minimizes $H$ -- i.e. we have reduced $H$ as much as possible from its given initial value.\n",
    "\n",
    "Because $H +K$ does not change, $K$ must be maximized in this special state.\n",
    "\n",
    "The special state was called the *reference state* in the seminal work on this subject by Ed Lorenz {cite}`Lorenz:1955a`. Following {cite:t}`Randall:globalcirc` here, we'll call it the A-state."
   ]
  },
  {
   "cell_type": "markdown",
   "id": "d1537c04-d87b-4729-9f85-25d07e20c69c",
   "metadata": {},
   "source": [
    "A key point is that the mass-integrated potential energy of the entire atmosphere is lower in the A-state than in the given state. In other words, the \"center of gravity\" of the atmosphere descends as the atmopshere adjusts from the given state to the A-state.\n",
    "\n",
    "Two keys processes that reduce $H$ and increase $K$ are convection and baroclinic instability.\n",
    "\n",
    "[SKETCHES]"
   ]
  },
  {
   "cell_type": "markdown",
   "id": "ee4c8aa2-9281-4307-9ccc-032eea3e8b82",
   "metadata": {},
   "source": [
    "We can write the energetics of this adjustment like so:\n",
    "\n",
    "\\begin{align*}\n",
    "H_{\\text{given}} &\\rightarrow H_{\\text{min}} \\\\\n",
    "K_{\\text{given}} &\\rightarrow K_{\\text{given}} + (H_{\\text{given}} - H_{\\text{min}} ) = K_{\\text{max}}\n",
    "\\end{align*}\n",
    "\n",
    "where H_{\\text{min}}$ is the enthalpy in the A-state. We thus define the *available potential energy* or APE through\n",
    "\n",
    "$$ A = H_{\\text{given}} - H_{\\text{min}} \\ge 0 $$\n",
    "\n",
    "This is the fundamental definition of APE as first quantified by {cite:t}`Lorenz:1955a`. It is the fraction of the total potential energy that can be converted to kinetic energy through adiabatic, frictionless rearrangements.\n",
    "\n",
    "Under such conditions, we can express energy conservation as\n",
    "\n",
    "$$ \\frac{d}{dt} ( A + K) = 0 $$\n",
    "\n",
    "Adiabatic, frictionless processes only convert between $A$ and $K$. The APE of the A-state itself is zero."
   ]
  },
  {
   "cell_type": "markdown",
   "id": "3de3fdc5-ff33-4fcd-b7c5-0f4139b82f6b",
   "metadata": {},
   "source": [
    "## Quantifying APE\n",
    "\n",
    "### Properties of the A-state\n",
    "\n",
    "To compute $A$, we have to find the enthalpy of the A-state. Some properties of the A-state include:\n",
    "\n",
    "- no horizontal pressure gradients, because otherwise there would be accelerations (generation of kinetic energy)\n",
    "- potential temperature $\\theta$ must be constant on isobaric surfaces\n",
    "- $p$ is constant on isentropic surfaces (these statement are all consistent with each other)\n",
    "\n",
    "These properties suggest that we can quantify the APE either through variance of $\\theta$ on $p$ surfaces or variance of $p$ on $\\theta$ surfaces\n",
    "\n",
    "[SKETCH Randall's Figure 7.3]\n",
    "\n",
    "To reach the A-state (i.e. to release APE), warm air must rise (move to lower pressure) and cold air must sink (more to higher pressure)!"
   ]
  },
  {
   "cell_type": "markdown",
   "id": "99b98cb4-463a-47e6-9bc6-891d23a749af",
   "metadata": {},
   "source": [
    "### The concept of the massless layer\n",
    "\n",
    "Following Lorenz, we will deal with the lower boundary (where $\\theta$ surfaces intersect the ground) by thinking about so-called massless layers\n",
    "\n",
    "[SKETCH Randalls' Figure 7.2]\n",
    "\n",
    "which allows to convert between integrals in pressure and integrals in isentropic coordinates like\n",
    "\n",
    "$$ \\int_0^{p_s} (~) dp = \\int_0^\\infty (~) \\frac{\\partial p}{\\partial \\theta} d\\theta $$\n",
    "\n",
    "The massless layer concept lets us set the lower bound on the integral on the right-hand side to zero."
   ]
  },
  {
   "cell_type": "markdown",
   "id": "67ebe04b-8ce3-4248-8ccd-610d864e5c60",
   "metadata": {},
   "source": [
    "### Derivation of the APE formula\n",
    "\n",
    "We want to express $A$ in terms of $p$ and $\\theta$ rather than $T$. Recall that \n",
    "\n",
    "$$ T = \\theta \\left( \\frac{p}{p_0} \\right)^{\\kappa} $$\n",
    "\n",
    "with $\\kappa = \\frac{R}{c_p}$\n",
    "\n",
    "So the total enthalpy is \n",
    "\n",
    "\\begin{align*}\n",
    "H &= c_p \\int_M T dM \\\\\n",
    "&= c_p p_0^{-\\kappa} \\int_M p^\\kappa \\theta dM \\\\\n",
    "&= \\frac{c_p a^2}{g p_0^\\kappa} \\int_{-\\pi/2}^{\\pi/2} \\int_0^{2\\pi} \\int_0^{p_s} p^\\kappa \\theta \\cos\\phi dp d\\lambda d\\phi\n",
    "\\end{align*}\n",
    "\n",
    "which, using integration by parts, can be rewritten in terms of an integral over $\\theta$:\n",
    "\n",
    "$$ H = \\frac{c_p a^2}{(1+\\kappa) g p_0^\\kappa} \\int_{-\\pi/2}^{\\pi/2} \\int_0^{2\\pi} \\int_0^\\infty p^{(1+\\kappa)} \\cos\\phi d\\theta d\\lambda d\\phi $$"
   ]
  },
  {
   "cell_type": "markdown",
   "id": "fba3a073-6aae-4f0e-9ec5-83f290c84b1b",
   "metadata": {},
   "source": [
    "We then let $\\overline{p}^\\theta$ by the average pressure on an isentropic surface, which must be the same in the A-state.\n",
    "\n",
    "Thus\n",
    "\n",
    "$$ A = \\frac{c_p a^2}{(1+\\kappa) g p_0^\\kappa} \\int_{-\\pi/2}^{\\pi/2} \\int_0^{2\\pi} \\int_0^\\infty \\left[ p^{(1+\\kappa)} - (\\overline{p}^\\theta)^{(1+\\kappa)} \\right] \\cos\\phi d\\theta d\\lambda d\\phi $$"
   ]
  },
  {
   "cell_type": "code",
   "execution_count": null,
   "id": "b3bf5ca0-fb26-45af-861a-a0a6bcf3106c",
   "metadata": {},
   "outputs": [],
   "source": []
  }
 ],
 "metadata": {
  "kernelspec": {
   "display_name": "Python 3 August 2022 Environment",
   "language": "python",
   "name": "aug22"
  },
  "language_info": {
   "codemirror_mode": {
    "name": "ipython",
    "version": 3
   },
   "file_extension": ".py",
   "mimetype": "text/x-python",
   "name": "python",
   "nbconvert_exporter": "python",
   "pygments_lexer": "ipython3",
   "version": "3.10.5"
  }
 },
 "nbformat": 4,
 "nbformat_minor": 5
}
