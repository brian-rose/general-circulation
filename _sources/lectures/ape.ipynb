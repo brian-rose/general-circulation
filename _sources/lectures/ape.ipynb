{
 "cells": [
  {
   "cell_type": "markdown",
   "id": "e1774afc-ec5b-4135-bff8-3b573e0d523d",
   "metadata": {},
   "source": [
    "# Available Potential Energy\n",
    "\n",
    "These notes largely follow Chapter 7 of David Randall's *An Introduction to the Global Circulation of the Atmosphere* {cite}`Randall:globalcirc`"
   ]
  },
  {
   "cell_type": "markdown",
   "id": "ac23fcfc-8e59-430d-8a71-7a5521a511ed",
   "metadata": {},
   "source": [
    "## Definitions\n",
    "\n",
    "### Column energetics\n",
    "\n",
    "Under dry adiabatic and frictionless processes, the total energy of the atmosphere is conserved:\n",
    "\n",
    "$$ \\frac{d}{dt} \\int_V (c_v T + \\Phi + K ) \\rho dV $$\n",
    "\n",
    "where the integral is over the mass of the whole atmopshere."
   ]
  },
  {
   "cell_type": "markdown",
   "id": "d7ed1fb0-de8e-4796-8128-a2bf8baffde8",
   "metadata": {},
   "source": [
    "#### Hydrostatic relations\n",
    "\n",
    "Consider a single column of air. The total (vertically integrated) potential energy in a column is\n",
    "\n",
    "$$P \\equiv \\int_0^\\infty g z \\rho dz $$\n",
    "\n",
    "which, for a hydrostatic column where\n",
    "\n",
    "$$ \\frac{\\partial p}{\\partial z} = -\\rho g $$\n",
    "\n",
    "is equivalent to \n",
    "\n",
    "$$P = \\int_0^\\infty \\rho R T dz $$\n",
    "\n",
    "*(can you see why?)*\n",
    "\n",
    "This essentially expresses the fact a warmer column is \"taller\" than a cooler column and so contains more potential energy."
   ]
  },
  {
   "cell_type": "markdown",
   "id": "0016851e-2017-49bc-8302-04abc9d7c422",
   "metadata": {},
   "source": [
    "#### Column enthalpy\n",
    "\n",
    "Now the internal energy of the column is \n",
    "\n",
    "$$ I \\equiv \\int_0^\\infty c_v T \\rho dz $$\n",
    "\n",
    "so the sum of the internal and potential energies is \n",
    "\n",
    "\\begin{align*}\n",
    "P + I &= \\int_0^\\infty g z \\rho dz + \\int_0^\\infty c_v T \\rho dz \\\\\n",
    "&= \\int_0^\\infty (c_v + R) T \\rho dz \\\\\n",
    "&= \\int_0^\\infty c_p T \\rho dz\n",
    "\\end{align*}\n",
    "\n",
    "The vertically integrated sum of internal and potential energies is equal to the vertically integrated sum  of the *enthalpy* $H$ defined by\n",
    "$$ H \\equiv \\int_0^\\infty c_p T \\rho dz $$\n",
    "\n",
    "that is,\n",
    "\n",
    "$$ P+I = H $$\n",
    "\n",
    "(these statements are only true for the vertically mass-weighted integrals!)"
   ]
  },
  {
   "cell_type": "markdown",
   "id": "98492788-1913-4169-95a7-404df3f10df0",
   "metadata": {},
   "source": [
    "It then follows that for a frictionless, adiabatic atmosphere\n",
    "\n",
    "$$ \\frac{d}{dt} (H + K) = 0 $$"
   ]
  },
  {
   "cell_type": "markdown",
   "id": "655a8be9-2d62-4bf8-97ba-92537ff17115",
   "metadata": {},
   "source": [
    "### Available potential idea: basic definition\n",
    "\n",
    "Suppose we rearrange the atmopshere by moving parcels around adiabatically and without friction. The parcels' potential temperature (or entropy) do not change but their enthalpy / temperature do change. Suppose there is a unique state that minimizes $H$ -- i.e. we have reduced $H$ as much as possible from its given initial value.\n",
    "\n",
    "Because $H +K$ does not change, $K$ must be maximized in this special state.\n",
    "\n",
    "The special state was called the *reference state* in the seminal work on this subject by Ed Lorenz {cite}`Lorenz:1955a`. Following {cite:t}`Randall:globalcirc` here, we'll call it the A-state."
   ]
  },
  {
   "cell_type": "markdown",
   "id": "d1537c04-d87b-4729-9f85-25d07e20c69c",
   "metadata": {},
   "source": [
    "A key point is that the mass-integrated potential energy of the entire atmosphere is lower in the A-state than in the given state. In other words, the \"center of gravity\" of the atmosphere descends as the atmopshere adjusts from the given state to the A-state.\n",
    "\n",
    "Two keys processes that reduce $H$ and increase $K$ are convection and baroclinic instability.\n",
    "\n",
    "[SKETCHES: differentially heated atmosphere]"
   ]
  },
  {
   "cell_type": "markdown",
   "id": "ee4c8aa2-9281-4307-9ccc-032eea3e8b82",
   "metadata": {},
   "source": [
    "We can write the energetics of this adjustment like so:\n",
    "\n",
    "\\begin{align*}\n",
    "H_{\\text{given}} &\\rightarrow H_{\\text{min}} \\\\\n",
    "K_{\\text{given}} &\\rightarrow K_{\\text{given}} + (H_{\\text{given}} - H_{\\text{min}} ) = K_{\\text{max}}\n",
    "\\end{align*}\n",
    "\n",
    "where $H_{\\text{min}}$ is the enthalpy in the A-state. We thus define the *available potential energy* or APE through\n",
    "\n",
    "$$ A = H_{\\text{given}} - H_{\\text{min}} \\ge 0 $$\n",
    "\n",
    "This is the fundamental definition of APE as first quantified by {cite:t}`Lorenz:1955a`. It is the fraction of the total potential energy that can be converted to kinetic energy through adiabatic, frictionless rearrangements.\n",
    "\n",
    "Under such conditions, we can express energy conservation as\n",
    "\n",
    "$$ \\frac{d}{dt} ( A + K) = 0 $$\n",
    "\n",
    "Adiabatic, frictionless processes only convert between $A$ and $K$. The APE of the A-state itself is zero."
   ]
  },
  {
   "cell_type": "markdown",
   "id": "3de3fdc5-ff33-4fcd-b7c5-0f4139b82f6b",
   "metadata": {},
   "source": [
    "## Quantifying APE\n",
    "\n",
    "### Properties of the A-state\n",
    "\n",
    "To compute $A$, we have to find the enthalpy of the A-state. Some properties of the A-state include:\n",
    "\n",
    "- No horizontal pressure gradients! Because otherwise there would be accelerations (generation of kinetic energy)\n",
    "    - This implies that temperature (and also potential temperature $\\theta$) must be constant on isobaric surfaces\n",
    "- If $\\theta$ is constant on $p$ surfaces, then equally $p$ must be constant on isentropic surfaces (surfaces of constant $\\theta$)\n",
    "\n",
    "These properties suggest that we can quantify the APE either through variance of $\\theta$ on $p$ surfaces or variance of $p$ on $\\theta$ surfaces\n",
    "\n",
    "[SKETCH Randall's Figure 7.3]\n",
    "\n",
    "To reach the A-state (i.e. to release APE), warm air must rise (move to lower pressure) and cold air must sink (more to higher pressure)!"
   ]
  },
  {
   "cell_type": "markdown",
   "id": "99b98cb4-463a-47e6-9bc6-891d23a749af",
   "metadata": {},
   "source": [
    "### The concept of the massless layer\n",
    "\n",
    "Since we're limiting our analysis to dry adiabatic processes, $\\theta$ is conserved on every parcel. So our rearrangements cannot involve mass crossing isentropic surfaces!\n",
    "\n",
    "This then implies that the average pressure on an isentropic surface cannot change, so must be the same in the A-state. We'll denote this average pressure by $\\overline{p}^\\theta$.\n",
    "\n",
    "Following Lorenz, we will deal with the lower boundary (where $\\theta$ surfaces intersect the ground) by thinking about so-called massless layers\n",
    "\n",
    "[SKETCH Randalls' Figure 7.2]\n",
    "\n",
    "which allows to convert between integrals in pressure and integrals in isentropic coordinates like\n",
    "\n",
    "$$ \\int_0^{p_s} (~) dp = \\int_0^\\infty (~) \\frac{\\partial p}{\\partial \\theta} d\\theta $$\n",
    "\n",
    "The massless layer concept lets us set the lower bound on the integral on the right-hand side to zero."
   ]
  },
  {
   "cell_type": "markdown",
   "id": "67ebe04b-8ce3-4248-8ccd-610d864e5c60",
   "metadata": {},
   "source": [
    "### Derivation of the APE formula\n",
    "\n",
    "\n",
    "#### The total enthalpy\n",
    "\n",
    "We want to express $A$ in terms of $p$ and $\\theta$ rather than $T$. Recall that \n",
    "\n",
    "$$ T = \\theta \\left( \\frac{p}{p_0} \\right)^{\\kappa} $$\n",
    "\n",
    "with $\\kappa = \\frac{R}{c_p}$\n",
    "\n",
    "So the total enthalpy is \n",
    "\n",
    "\\begin{align*}\n",
    "H &= c_p \\int_M T dM \\\\\n",
    "&= c_p p_0^{-\\kappa} \\int_M p^\\kappa \\theta dM \\\\\n",
    "&= \\frac{c_p a^2}{g p_0^\\kappa} \\int_{-\\pi/2}^{\\pi/2} \\int_0^{2\\pi} \\int_0^{p_s} p^\\kappa \\theta \\cos\\phi dp d\\lambda d\\phi\n",
    "\\end{align*}\n",
    "\n",
    "which, using integration by parts, can be rewritten in terms of an integral over $\\theta$:\n",
    "\n",
    "$$ H = \\frac{c_p a^2}{(1+\\kappa) g p_0^\\kappa} \\int_{-\\pi/2}^{\\pi/2} \\int_0^{2\\pi} \\int_0^\\infty p^{(1+\\kappa)} \\cos\\phi d\\theta d\\lambda d\\phi $$"
   ]
  },
  {
   "cell_type": "markdown",
   "id": "fba3a073-6aae-4f0e-9ec5-83f290c84b1b",
   "metadata": {},
   "source": [
    "#### Expressing $A$ as the difference in total enthalpy\n",
    "\n",
    "We now apply the difference\n",
    "\n",
    "$$ A = H_{\\text{given}} - H_{\\text{min}} $$\n",
    "\n",
    "To calculate $H_{\\text{min}}$ (the enthalpy of the A-state), we can replace $p$ with its average on isentropic surfaces $\\overline{p}^\\theta$ -- which we already argued must be the same in the A-state as in the given state.\n",
    "\n",
    "Thus the APE is given by\n",
    "\n",
    "$$ A = \\frac{c_p a^2}{(1+\\kappa) g p_0^\\kappa} \\int_{-\\pi/2}^{\\pi/2} \\int_0^{2\\pi} \\int_0^\\infty \\left[ p^{(1+\\kappa)} - (\\overline{p}^\\theta)^{(1+\\kappa)} \\right] \\cos\\phi d\\theta d\\lambda d\\phi $$"
   ]
  },
  {
   "cell_type": "markdown",
   "id": "cb53284e-0187-45de-bbfc-3592d9a6b5aa",
   "metadata": {},
   "source": [
    "#### Expressing $A$ as a variance of pressure on isentropic surfaces\n",
    "\n",
    "The above expression is accurate but unwieldy. Following {cite:t}`Lorenz:1955a`, we can decompose \n",
    "\n",
    "$$ p(\\theta) = \\overline{p}^\\theta + p^\\prime(\\theta) $$\n",
    "\n",
    "where $p^\\prime(\\theta)$ is departures from the average value on isentropic surfaces. \n",
    "\n",
    "Then we can express the power $p^{(1+\\kappa)}$ (which appears in the above formula for $A$) as\n",
    "\n",
    "$$ p^{1+\\kappa}(\\theta) = (\\overline{p}^\\theta)^{1+\\kappa} \\left[ 1 + \\frac{p^\\prime(\\theta)}{\\overline{p}^\\theta}\\right]^{1+\\kappa} $$\n",
    "\n",
    "and use the binomial theorem to write this as a series expansion like\n",
    "\n",
    "$$ p^{1+\\kappa}(\\theta) = (\\overline{p}^\\theta)^{1+\\kappa} \\left\\{ 1 + (1+\\kappa) \\frac{p^\\prime(\\theta)}{\\overline{p}^\\theta} + \\frac{\\kappa (1+\\kappa)}{2!} \\left[ \\frac{p^\\prime(\\theta)}{\\overline{p}^\\theta} \\right]^2 + \\ldots \\right\\} $$"
   ]
  },
  {
   "cell_type": "markdown",
   "id": "1ffbfac1-df05-4d05-bda0-5100e472fa9a",
   "metadata": {},
   "source": [
    "If we now take the average on isentropic surfaces, and truncate the expansion at the 2nd order, we get Lorenz's expression\n",
    "\n",
    "$$ \\overline{p^{1+\\kappa}(\\theta)} \\approx (\\overline{p}^\\theta)^{1+\\kappa} \\left\\{ 1 + \\frac{\\kappa (1+\\kappa)}{2!} \\overline{\\left[ \\frac{p^\\prime(\\theta)}{\\overline{p}^\\theta} \\right]^2 } \\right\\} $$\n",
    "\n",
    "making use of the fact that $\\overline{p^\\prime(\\theta)} = 0$ (since the prime means deviation away from that mean!)\n",
    "\n",
    "The idea here is that we can substitute this expression into the integral above for $A$, since we have are integrating $p^{1+\\kappa}$ over all $\\theta$ -- we replace the integrand with its mean value.\n",
    "\n",
    "Substituting in and canceling terms gives us\n",
    "\n",
    "$$ A \\approx \\frac{R a^2}{2 g p_0^\\kappa} \\int_{-\\pi/2}^{\\pi/2} \\int_0^{2\\pi} \\int_0^\\infty (\\overline{p}^\\theta)^{1+\\kappa} \\left[ \\frac{p^\\prime(\\theta)}{\\overline{p}^\\theta} \\right]^2 \\cos\\phi d\\theta d\\lambda d\\phi $$\n",
    "\n",
    "which says that the APE proportional to the total (integral) variance of pressure on isentropic surfaces."
   ]
  },
  {
   "cell_type": "markdown",
   "id": "57a8439e-0eb5-41c1-ae52-4667b87793c0",
   "metadata": {},
   "source": [
    "#### More readily computable form: variance of temperature on isobaric surfaces\n",
    "\n",
    "Since we usually have data on pressure surfaces rather than $\\theta$ surfaces, it's more practical to transform this expression back into pressure coordinates using\n",
    "\n",
    "$$ p^\\prime(\\theta) = \\theta^\\prime(p) \\left(\\frac{\\partial \\overline{\\theta}}{\\partial p}\\right)^{-1} $$\n",
    "\n",
    "where now $\\theta^\\prime(p)$ represents deviations of $\\theta$ away from its mean value on $p$-surfaces."
   ]
  },
  {
   "cell_type": "markdown",
   "id": "535d6a3b-c5b5-4111-827c-8a99a776e5a9",
   "metadata": {},
   "source": [
    "Hydrostatic balance can be expressed as\n",
    "\n",
    "$$ \\frac{\\partial \\theta}{\\partial p} -\\frac{\\kappa \\theta}{p} \\left(\\frac{\\Gamma_d - \\Gamma}{\\Gamma_d} \\right) $$\n",
    "with $\\Gamma = -dT/dz$ the lapse rate, and $\\Gamma_d = g/c_p$ the dry adiabatic lapse rate.\n",
    "\n",
    "This allows us to finally express the integral in terms of **temperature variance on pressure surfaces**:\n",
    "\n",
    "$$ A \\approx \\frac{a^2}{2} \\int_{-\\pi/2}^{\\pi/2} \\int_0^{2\\pi} \\int_0^{p_s} \\frac{\\overline{T}}{\\Gamma_d - \\Gamma} \\left[ \\frac{T^\\prime(p)}{\\overline{T}} \\right]^2 \\cos\\phi dp d\\lambda d\\phi $$\n",
    "\n",
    "where now the integral is taken over all pressure surfaces, rather than over all potential temperature surfaces.\n",
    "\n",
    "Another way of writing the static stability is using\n",
    "\n",
    "$$ \\tilde{\\Gamma} \\equiv -\\frac{R \\theta}{p} \\left( \\frac{\\partial \\theta}{\\partial p} \\right)^{-1} $$\n",
    "\n",
    "(an inverse measure of the static stability in units of J kg$^{-1}$ K$^{-1}$, which we can calculate from mean values of $\\theta$)\n",
    "\n",
    "so that APE can be calculated from\n",
    "\n",
    "$$ A \\approx \\frac{a^2}{2 g} \\int_{-\\pi/2}^{\\pi/2} \\int_0^{2\\pi} \\int_0^{p_s} \\tilde{\\Gamma} \\frac{T^\\prime(p)^2}{\\overline{T}} \\cos\\phi dp d\\lambda d\\phi $$"
   ]
  },
  {
   "cell_type": "markdown",
   "id": "fe76d1e1-248b-47bf-aebb-c4e36d1b279a",
   "metadata": {},
   "source": [
    "#### Conclusions\n",
    "\n",
    "The formula above shows us that APE increases in two different ways:\n",
    "\n",
    "1. APE increases with the variance of temperature on pressure surfaces\n",
    "2. APE increases with lapse rate, i.e. as the atmopshere gets closer to neutral stability ($\\Gamma$ approaches $\\Gamma_d$, or $\\tilde{\\Gamma}$ approaches zero)\n",
    "\n",
    "Hence, we get a sense that the APE has (roughly speaking) two components: a vertical component related to static stability, and a horizontal component related to horizontal temperature variations.\n",
    "\n",
    "This is also formula we can readily compute from standard data sources!\n",
    "\n",
    "As we will see, APE (or $A$) is around 0.5% of $H = P + I$, and somewhat larger (but of comparable magnitude) to $K$."
   ]
  },
  {
   "cell_type": "markdown",
   "id": "7c3f986b",
   "metadata": {},
   "source": [
    "## Balance equations for mean and eddy APE and KE\n",
    "\n",
    "### Goal \n",
    "\n",
    "We want to consider how energy flows through a system containing four distinct energy reservoirs\n",
    "- mean kinetic energy $K_M$\n",
    "- eddy kinetic energy $K_E$\n",
    "- mean available potential energy $A_M$\n",
    "- eddy available potential energy $A_E$\n",
    "\n",
    "For this purpose, \"eddy\" here is going to mean deviations from the zonal mean, i.e. we'll decompose scalars like\n",
    "\n",
    "$$ B = [B] + B^* $$"
   ]
  },
  {
   "cell_type": "markdown",
   "id": "fee02273-94c8-49a6-bd8c-7b34b4589109",
   "metadata": {},
   "source": [
    "So the kinetic energy will be decomposed like\n",
    "\n",
    "\\begin{align*}\n",
    "K &= K_M + K_E \\\\\n",
    "&= \\frac{1}{2} \\int_M ([u]^2 + [v]^2) dm  + \\frac{1}{2} \\int_M ([u^{*2}] + [v^{*2}]) dm\n",
    "\\end{align*}\n",
    "\n",
    "(we'll ignore vertical velocity contributions since they are very small)\n",
    "\n",
    "We'll need to go back to the equations of motion to see how to quantify *conversions* between the various reservoirs."
   ]
  },
  {
   "cell_type": "markdown",
   "id": "d6a2d4d2",
   "metadata": {},
   "source": [
    "### Variance budgets for a general scalar\n",
    "\n",
    "It will help to write down some generic formulas that are true for any scalar for which we have a budget equation in flux form:\n",
    "\n",
    "$$ \\frac{\\partial B}{\\partial t} = - \\nabla \\cdot (\\vec{v} B) + \\dot{B} $$\n",
    "\n",
    "where $\\dot{B}$ are any local sources/sinks of $B$.\n",
    "\n",
    "Our goal here is to come up with expressions for the **variance** of the mean and eddy components of $B$.\n",
    "\n",
    "#### Mean component\n",
    "\n",
    "Start by taking the zonal mean and multiplying through by $[B]$ so that\n",
    "\n",
    "$$ [B] \\frac{\\partial [B]}{\\partial t} = -\\frac{[B]}{a \\cos \\phi} \\frac{\\partial}{\\partial \\phi} \\left( [vB] \\cos\\phi \\right) -[B] \\frac{\\partial}{\\partial p} [\\omega B] + [B] \\dot{B} $$"
   ]
  },
  {
   "cell_type": "markdown",
   "id": "32ecc5d4",
   "metadata": {},
   "source": [
    "Rerranging the LHS, we now have a budget for the variance of the mean, $\\frac{1}{2}\\frac{\\partial [B]^2}{\\partial t}$. \n",
    "\n",
    "Now split the fluxes $[vB], [\\omega B]$ into mean and eddy components, and use mass continuity \n",
    "\n",
    "$$ \\nabla \\cdot \\vec{v} = 0 $$\n",
    "\n",
    "(in the pressure coordinate form) to rewrite the budget as"
   ]
  },
  {
   "cell_type": "markdown",
   "id": "bd6fdfee",
   "metadata": {},
   "source": [
    "\\begin{align*}\n",
    "\\frac{1}{2} \\frac{\\partial [B]^2 }{\\partial t} = &-\\frac{1}{2 a \\cos\\phi} \\frac{\\partial}{\\partial \\phi} \\left( [v][B]^2 \\cos\\phi \\right) -\\frac{1}{2} \\frac{\\partial}{\\partial p} \\left( [\\omega][B]^2 \\right) \\\\\n",
    "&-\\frac{1}{a\\cos\\phi} \\frac{\\partial}{\\partial \\phi} \\left( [v^*B^*][B] \\cos\\phi \\right) -\\frac{\\partial}{\\partial p} \\left( [\\omega^* B^*][B] \\right) \\\\\n",
    "&+ \\frac{[v^*B^*]}{a} \\frac{\\partial}{\\partial \\phi} [B] + [\\omega^* B^*] \\frac{\\partial}{\\partial p} [B] \\\\\n",
    "&+ [B] \\dot{B}\n",
    "\\end{align*}"
   ]
  },
  {
   "cell_type": "markdown",
   "id": "b4d53b86",
   "metadata": {},
   "source": [
    "#### Eddy component\n",
    "\n",
    "We'll omit details here, but see Chapter 7 of {cite}`Randall:globalcirc`.\n",
    "\n",
    "The steps are essentially\n",
    "1. Substract $\\frac{\\partial B}{\\partial t} - \\frac{\\partial [B]}{\\partial t}$ to get an equation for $\\frac{\\partial B^*}{\\partial t}$\n",
    "2. Multiply through by $B^*$ to get an equation for the variance budget $\\frac{1}{2} \\frac{\\partial B^{*2}}{\\partial t}$\n",
    "3. Take the zonal average\n",
    "\n",
    "The result looks like this:\n",
    "\n",
    "\\begin{align*}\n",
    "\\frac{1}{2} \\frac{\\partial }{\\partial t} [B^{*2}] = &-\\frac{1}{2 a \\cos\\phi} \\frac{\\partial}{\\partial \\phi} \\left( [v][B^{*2}] \\cos\\phi \\right) - \\frac{1}{2} \\frac{\\partial}{\\partial p} \\left( [\\omega][B^{*2}] \\right) \\\\\n",
    "&-\\frac{1}{2 a \\cos\\phi} \\frac{\\partial}{\\partial \\phi} \\left( [v^* B^{*2}] \\cos\\phi \\right) - \\frac{1}{2} \\frac{\\partial}{\\partial p} \\left( [\\omega^* B^{*2}] \\right) \\\\\n",
    "&-\\frac{[v^*B^*]}{a} \\frac{\\partial}{\\partial \\phi} [B] - [\\omega^* B^*] \\frac{\\partial}{\\partial p} [B] \\\\\n",
    "&+ [B^* \\dot{B^*}]\n",
    "\\end{align*}"
   ]
  },
  {
   "cell_type": "markdown",
   "id": "374e3215",
   "metadata": {},
   "source": [
    "#### Interpretation of terms\n",
    "\n",
    "For both the mean and eddy variance equations, the rows of terms are\n",
    "1. Flux divergence terms due to mean zonal flow\n",
    "    - Boundary sources for budgets integrated over limited domains\n",
    "    - Vanish for the whole-atmosphere budget\n",
    "2. Flux divergence terms due to eddy flow\n",
    "    - Similarly, these represent boundary sources for limited domain budgets\n",
    "    - Vanish for the whole atmosphere\n",
    "3. **Conversion terms** between mean and eddy components!\n",
    "4. Source/sink terms for mean and eddy components"
   ]
  },
  {
   "cell_type": "markdown",
   "id": "bab0ae85",
   "metadata": {},
   "source": [
    "### Mean kinetic energy budget\n",
    "\n",
    "We can straightaway apply the above variance equations since kinetic energy is the sum of the variance of the velocity components $u, v$.\n",
    "\n",
    "Horizontal momentum equations look like\n",
    "\n",
    "\\begin{align*}\n",
    "\\frac{\\partial u}{\\partial t} &= -\\nabla \\cdot (\\vec{v} u) + fv -\\frac{g}{a \\cos\\phi} \\frac{\\partial z}{\\partial \\lambda} + F_u \\\\\n",
    "\\frac{\\partial v}{\\partial t} &= -\\nabla \\cdot (\\vec{v} v) - fu -\\frac{g}{a} \\frac{\\partial z}{\\partial \\phi} + F_v \n",
    "\\end{align*}\n",
    "\n",
    "where the terms on the RHS aside from the flux divergence represent our local sources/sinks $\\dot{u}, \\dot{v}$ (including Coriolis forces, pressure gradient forces, and friction)"
   ]
  },
  {
   "cell_type": "markdown",
   "id": "2d05e204",
   "metadata": {},
   "source": [
    "#### Zonal mean KE budget and conversion terms\n",
    "\n",
    "Let's use the variance budgets expressions above to write down a budget for the *zonal mean kinetic energy* for the whole atmosphere.\n",
    "\n",
    "Since we're integrating over the whole atmosphere, the boundary terms vanish.  The budget becomes\n",
    "\n",
    "\\begin{align*}\n",
    "\\frac{1}{2} \\frac{\\partial}{\\partial t} \\int_M \\left( [u]^2 + [v]^2 \\right) dm = &+\\int \\frac{[v^*u^*]}{a} \\frac{\\partial}{\\partial \\phi} [u] + \\int [\\omega^* u^*] \\frac{\\partial}{\\partial p} [u] \\\\\n",
    "&+\\int f[u][v] - \\int \\frac{g [u]}{a \\cos\\phi} \\left[\\frac{\\partial z}{\\partial \\lambda}\\right] + \\int [u] [F_u] \\\\\n",
    "&+ \\int \\frac{[v^{*2}]}{a} \\frac{\\partial}{\\partial \\phi} [v] + \\int [\\omega^* v^*] \\frac{\\partial}{\\partial p} [v] \\\\\n",
    "&-\\int f[v][u] - \\int \\frac{g [v]}{a} \\frac{\\partial [z]}{\\partial \\phi} + \\int [v][F_v]\n",
    "\\end{align*}"
   ]
  },
  {
   "cell_type": "markdown",
   "id": "df8ac511",
   "metadata": {},
   "source": [
    "We've already seen some of this when we were writing out total energy budgets for the atmosphere. Notice that the **Coriolis terms cancel out**, as they must (the apparent force does no work).\n",
    "\n",
    "We will also neglect the mountain term here, assuming it is small compared the meridional geopotential height gradient."
   ]
  },
  {
   "cell_type": "markdown",
   "id": "b67d5679",
   "metadata": {},
   "source": [
    "#### Conversion from mean APE to mean KE\n",
    "\n",
    "One of the terms on the RHS side above we are going to a-priori call the **conversion from mean APE to mean KE**:\n",
    "\n",
    "$$ C(A_M, K_M) = - \\int \\frac{g [v]}{a} \\frac{\\partial [z]}{\\partial \\phi} dm $$\n",
    "\n",
    "with the mass element\n",
    "\n",
    "$$ dm = \\frac{a^2 \\cos\\phi}{g} d\\phi d\\lambda dp $$\n",
    "\n",
    "This term represents conversion of mean APE to mean KE by cross-isobaric flow down the north-south geopotential or pressure gradient."
   ]
  },
  {
   "cell_type": "markdown",
   "id": "6a82f9f1",
   "metadata": {},
   "source": [
    "#### Converstion from mean APE to mean KE is *Thermally Direct* overturning\n",
    "\n",
    "There is another, possibly more physically intuitive way of writing this same term as a weighted integral of vertical motion. To get there, we need some integration by parts and conservation of mass.\n",
    "\n",
    "Since by the product rule\n",
    "\n",
    "$$\\frac{1}{\\cos\\phi} \\frac{\\partial}{\\partial \\phi} \\left( [v][z] \\cos \\phi \\right) = [v] \\frac{\\partial [z]}{\\partial \\phi}  + \\frac{[z]}{\\cos\\phi} \\frac{\\partial}{\\partial \\phi} \\left( [v]\\cos \\phi \\right) $$\n",
    "\n",
    "then we can write the integral as\n",
    "\n",
    "\\begin{align*}\n",
    "C(A_M, K_M) &= - \\int \\frac{g}{a \\cos\\phi} \\frac{\\partial}{\\partial \\phi} \\left([v][z]\\cos\\phi \\right) dm + \\int \\frac{g [z]}{a \\cos\\phi} \\frac{\\partial}{\\partial \\phi} \\left( [v] \\cos\\phi \\right) dm\n",
    "\\end{align*}\n",
    "\n",
    "and the first term on the RHS drops out. [WHY? *(think about boundary conditions)*]"
   ]
  },
  {
   "cell_type": "markdown",
   "id": "b2856d94-2dfe-422b-b616-4e9301d2692a",
   "metadata": {},
   "source": [
    "Now using the zonal continuity equation\n",
    "\n",
    "$$ \\frac{1}{a \\cos\\phi} \\frac{\\partial}{\\partial \\phi} \\left( [v] \\cos\\phi \\right) + \\frac{\\partial}{\\partial p} [\\omega] = 0 $$\n",
    "\n",
    "we can rewrite our conversion term as\n",
    "\n",
    "$$ C(A_M, K_M) = -\\int g [z] \\frac{\\partial [\\omega] }{\\partial \\phi} dm $$\n",
    "\n",
    "One more round of integration by parts (and cancellation of another boundary term) yields\n",
    "\n",
    "$$ C(A_M, K_M) = \\int g [\\omega] \\frac{\\partial [z] }{\\partial \\phi} dm $$"
   ]
  },
  {
   "cell_type": "markdown",
   "id": "608de0c7-3d37-4d97-9ff5-eb77e51a537e",
   "metadata": {},
   "source": [
    "Finally, we make use of hydrostatic balance\n",
    "\n",
    "$$ \\frac{\\partial [z]}{\\partial p} = -\\frac{[\\alpha]}{g} $$\n",
    "\n",
    "to write the conversion as\n",
    "\n",
    "$$ C(A_M, K_M) = -\\int [\\omega] [\\alpha] dm $$"
   ]
  },
  {
   "cell_type": "markdown",
   "id": "e0b63193-3fc4-4e58-a834-791aac1bac08",
   "metadata": {},
   "source": [
    "This says that there is conversion FROM mean APE TO mean KE when / wherever light air (high specific volume) rises and heavy air (low specific volume) sinks in symmetric meridional overturning circulations that are so-called **THERMALLY DIRECT**."
   ]
  },
  {
   "cell_type": "markdown",
   "id": "fbc1fba6-02a4-4007-a894-81194708d814",
   "metadata": {},
   "source": [
    "#### Conversion between eddy and mean KE\n",
    "\n",
    "We can write the conversion FROM eddy KE TO mean KE as\n",
    "\n",
    "\\begin{align*} \n",
    "C(K_E, K_M) = &+\\int \\frac{[v^*u^*]}{a} \\frac{\\partial}{\\partial \\phi} [u] + \\int [\\omega^* u^*] \\frac{\\partial}{\\partial p} [u] \\\\\n",
    "&+ \\int \\frac{[v^{*2}]}{a} \\frac{\\partial}{\\partial \\phi} [v] + \\int [\\omega^* v^*] \\frac{\\partial}{\\partial p} [v] \n",
    "\\end{align*}"
   ]
  },
  {
   "cell_type": "markdown",
   "id": "84bfb9fb-8f01-4e22-a33c-07c60095777d",
   "metadata": {},
   "source": [
    "These are relationships between the *shear* of the mean flow and the *tilt* of the eddies.\n",
    "\n",
    "E.g. a zonal jet and eddies with a tilt in the horizontal plane\n",
    "\n",
    "[SKETCH]\n",
    "\n",
    "The eddy momentum transport here is *up the mean gradient*, leading to an increase in the mean KE."
   ]
  },
  {
   "cell_type": "markdown",
   "id": "43465ba1-593e-4f4d-adb6-9a5d0ecd4cd7",
   "metadata": {},
   "source": [
    "#### Frictional sink\n",
    "\n",
    "The last term in our mean KE budget is the destruction of mean KE by friction:\n",
    "\n",
    "$$ D(K_M) = \\int \\left( [u][F_u] + [v][F_v] \\right) dm $$\n",
    "\n",
    "which is clearly *positive* if the frictional forces act the opposite direction to the velocity vector."
   ]
  },
  {
   "cell_type": "markdown",
   "id": "6bccaa80-f95a-473c-bc7f-93928f526425",
   "metadata": {},
   "source": [
    "#### Summary\n",
    "\n",
    "We have written the mean KE budget as\n",
    "\n",
    "$$ \\frac{1}{2} \\frac{\\partial}{\\partial t} \\int_M \\left( [u]^2 + [v]^2 \\right) dm = C(K_E, K_M) + C(A_M, K_M) - D(K_M) $$\n",
    "\n",
    "and worked out both mathematical forms and physical interpretations of the various RHS terms."
   ]
  },
  {
   "cell_type": "markdown",
   "id": "61b1c34a-9546-4f5f-b34f-0723a3130fc9",
   "metadata": {},
   "source": [
    "### Eddy kinetic energy budget\n",
    "\n",
    "Applying the formula above for the eddy component of the variance budget gives the following budget for eddy KE (for the entire atmosphere -- boundary fluxes must vanish again):\n",
    "\n",
    "\\begin{align*}\n",
    "\\frac{1}{2} \\frac{\\partial}{\\partial t} \\int_M \\left( [u^{*2}] + [v^{*2}] \\right) dm = &-\\int \\frac{[v^*u^*]}{a} \\frac{\\partial}{\\partial \\phi} [u] - \\int [\\omega^* u^*] \\frac{\\partial}{\\partial p} [u] \\\\\n",
    "&+\\int f[u^* v^*] - \\int \\frac{g }{a \\cos\\phi} \\left[u^* \\frac{\\partial z^*}{\\partial \\lambda}\\right] + \\int [u^* F_u^*] \\\\\n",
    "&- \\int \\frac{[v^{*2}]}{a} \\frac{\\partial}{\\partial \\phi} [v] - \\int [\\omega^* v^*] \\frac{\\partial}{\\partial p} [v] \\\\\n",
    "&-\\int f[v^*u^*] - \\int \\frac{g}{a} \\left[ v^* \\frac{\\partial z^*}{\\partial \\phi} \\right] + \\int [v^* F_v^*]\n",
    "\\end{align*}\n",
    "\n",
    "and the Coriolis terms cancel out again, as they must."
   ]
  },
  {
   "cell_type": "markdown",
   "id": "f617d999-4ee6-4121-8843-56ab7ce89519",
   "metadata": {},
   "source": [
    "#### Conversion between eddy and mean KE\n",
    "\n",
    "We can see some equal-and-opposite conversion terms here between eddy and mean KE, i.e.,\n",
    "\n",
    "$$ C(K_M, K_E) = -C(K_E, K_M) $$"
   ]
  },
  {
   "cell_type": "markdown",
   "id": "0e2e8567-ec13-41f9-831f-3e8ad39ced1c",
   "metadata": {},
   "source": [
    "#### Conversion between eddy APE and eddy KE\n",
    "\n",
    "The new conversion term appearing in this budget is\n",
    "\n",
    "$$ C(A_E, K_E) = - \\int \\left( \\frac{g }{a \\cos\\phi} \\left[u^* \\frac{\\partial z^*}{\\partial \\lambda}\\right] + \\frac{g}{a} \\left[ v^* \\frac{\\partial z^*}{\\partial \\phi} \\right]   \\right)dm$$\n",
    "\n",
    "or in more compact vector form,\n",
    "\n",
    "$$ C(A_E, K_E) = -\\int g \\left( \\vec{v^*} \\cdot \\nabla z^* \\right) dm $$\n",
    "\n",
    "which says that conversion FROM eddy potential energy TO eddy kinetic energy occurs when eddy velocities are anticorrelated with pressure gradient anomalies.\n",
    "\n",
    "E.g. a sketch of eddy flow along a latitude circle [SKETCH]\n",
    "\n",
    "Another way of saying this is that **eddy flow that has an ageostrophic component down the pressure gradient** generates eddy KE."
   ]
  },
  {
   "cell_type": "markdown",
   "id": "14ee55e7-db08-44c7-8269-be1724a59ad9",
   "metadata": {},
   "source": [
    "#### Interpretation in terms of vertical motion\n",
    "\n",
    "As was the case for the mean conversion term $C(A_M, K_M)$, we can rewrite this using continuity and hydrostatic balance as a statement about eddy vertical motions:\n",
    "\n",
    "$$ C(A_E, K_E) = -\\int [\\omega^* \\alpha^*] dm $$\n",
    "\n",
    "which says that eddy KE is created when less-dense air rises and more-dense air sinks along a latitude circle. [SKETCH]"
   ]
  },
  {
   "cell_type": "markdown",
   "id": "fad507fa-0866-4608-9217-0e008d8f0f2d",
   "metadata": {},
   "source": [
    "#### Frictional sink: eddies\n",
    "\n",
    "The sink term is just\n",
    "\n",
    "$$ D(K_E) = \\int  \\left( [u^* F_u^*] + \\int [v^* F_v^*] \\right) dm $$"
   ]
  },
  {
   "cell_type": "markdown",
   "id": "c7c77ecc-9179-4be0-b244-a2fc5135b9c2",
   "metadata": {},
   "source": [
    "#### Summary\n",
    "\n",
    "The budget for eddy KE looks like\n",
    "\n",
    "$$\\frac{1}{2} \\frac{\\partial}{\\partial t} \\int_M \\left( [u^{*2}] + [v^{*2}] \\right) dm = -C(K_E, K_M) + C(A_E, K_E) - D(K_E) $$"
   ]
  },
  {
   "cell_type": "markdown",
   "id": "e94380af-337d-479f-8ba0-05903986bda7",
   "metadata": {},
   "source": [
    "### Mean APE budget for the whole atmosphere\n",
    "\n",
    "From our (hard) work above, we can write the mean Available Potential Energy for the entire atmosphere as\n",
    "\n",
    "$$A_M = \\frac{1}{2} \\int \\tilde{\\Gamma} \\frac{[T^{\\prime 2}]}{\\overline{T}} dm $$\n",
    "\n",
    "where, as a reminder, the bar and prime refer to averages on pressures surfaces, and $\\tilde{\\Gamma}$ is the inverse static stability parameter in pressure coordinates."
   ]
  },
  {
   "cell_type": "markdown",
   "id": "ab5d8bbb-1359-45e3-bf04-0c1451af5be3",
   "metadata": {},
   "source": [
    "Since APE is proportional to temperature variance on pressure surfaces, we will need to look at the variance budget for temperature! For the physical constraints governing temperature variations, we make use of the **thermodynamic equation**, which we can write in pressure coordinates as\n",
    "\n",
    "$$ \\frac{\\partial T}{\\partial t} = -\\vec{v} \\cdot \\nabla T - \\omega \\frac{T}{\\theta} \\frac{\\partial \\theta}{\\partial p} + \\frac{\\dot{Q}}{c_p} $$\n",
    "\n",
    "The approach here is the use our generic expression for the variance budget of the mean, while multiplying the budget through by $\\frac{\\tilde{\\Gamma}}{\\bar{T}}$."
   ]
  },
  {
   "cell_type": "markdown",
   "id": "efe11288-7994-41dd-8f49-b61a7a36f4b7",
   "metadata": {},
   "source": [
    "The result looks like\n",
    "\n",
    "\\begin{align*}\n",
    "\\frac{1}{2} \\frac{\\partial}{\\partial t} \\int \\tilde{\\Gamma} \\frac{[T^{\\prime}]^2}{\\overline{T}} dm = &+\\int \\frac{[v^*T^*]}{a} \\frac{\\partial}{\\partial\\phi} \\left( \\frac{\\tilde{\\Gamma} [T^\\prime]}{\\bar{T}} \\right) + \\int [\\omega^*T^*] \\frac{\\partial}{\\partial p} \\left( \\frac{\\tilde{\\Gamma} [T^\\prime]}{\\bar{T}} \\right) \\\\\n",
    "&-\\int [T^\\prime] \\left[ \\frac{\\omega}{\\bar{T}} \\frac{T}{\\theta} \\frac{\\partial \\theta}{\\partial p} \\tilde{\\Gamma} \\right] + \\int [T^\\prime] \\left( \\frac{\\tilde{\\Gamma}[\\dot{Q}]}{c_p \\bar{T}} \\right)\n",
    "\\end{align*}"
   ]
  },
  {
   "cell_type": "markdown",
   "id": "b632d41d-b400-47e8-a04b-1909acee5358",
   "metadata": {},
   "source": [
    "#### Conversion from eddy to mean APE\n",
    "\n",
    "The eddy-to-mean conversion term here is\n",
    "\n",
    "$$ C(A_E, A_M) = \\int \\frac{[v^*T^*]}{a} \\frac{\\partial}{\\partial\\phi} \\left( \\frac{\\tilde{\\Gamma} [T^\\prime]}{\\bar{T}} \\right) + \\int [\\omega^*T^*] \\frac{\\partial}{\\partial p} \\left( \\frac{\\tilde{\\Gamma} [T^\\prime]}{\\bar{T}} \\right)$$"
   ]
  },
  {
   "cell_type": "markdown",
   "id": "34684e1e-c97d-4706-9589-5e2a84c8e646",
   "metadata": {},
   "source": [
    "This looks a little complicated, but we can interpret this in terms of the correlation between eddy heat flux and mean temperature gradients.\n",
    "\n",
    "E.g. For the first term, mean APE is converted to eddy APE when the mean north-south temperature gradient is perturbed by eddies to produce warm and cold sectors along a latitude circle \n",
    "\n",
    "[SKETCH]\n",
    "\n",
    "In this situation, the eddies are transporting heat DOWN the mean zonal temperature gradient."
   ]
  },
  {
   "cell_type": "markdown",
   "id": "eec7dc81-d237-41e3-be52-793088cb0709",
   "metadata": {},
   "source": [
    "#### Conversion between mean KE and mean APE\n",
    "\n",
    "In our mean KE budget, we previously identified a conversion term\n",
    "\n",
    "$$ C(A_M, K_M) = -\\int [\\omega] [\\alpha] dm $$\n",
    "\n",
    "This ought to show up as an equal-and-opposite conversion $C(K_M, A_M)$ in our mean APE budget. It's actually hiding in the first term on the second line above:\n",
    "\n",
    "\\begin{align*}\n",
    "C(K_M, A_M) &= -\\int [T^\\prime] \\left[ \\frac{\\omega}{\\bar{T}} \\frac{T}{\\theta} \\frac{\\partial \\theta}{\\partial p} \\tilde{\\Gamma} \\right] \\\\\n",
    "&= \\int [\\omega] [\\alpha^\\prime] dm \n",
    "\\end{align*}\n",
    "\n",
    "*To see this, use the definition of $\\tilde{\\Gamma}$ along with hydrostatic balance and the relationship between temperature and potential temperature $\\frac{T}{\\bar{T}} = \\frac{\\theta}{\\bar{\\theta}}$ -- details omitted here.*"
   ]
  },
  {
   "cell_type": "markdown",
   "id": "b69a9594-7336-4bfe-a478-b5d02458635c",
   "metadata": {},
   "source": [
    "#### Diabatic source term\n",
    "\n",
    "The last term in our mean APE budget is a key *generation* or source term\n",
    "\n",
    "$$ G(A_M) = \\int \\frac{\\tilde{\\Gamma}[T^\\prime] [\\dot{Q}]}{c_p \\bar{T}} dm $$\n",
    "\n",
    "which expresses the generation of mean APE via diabatic heating.\n",
    "\n",
    "APE is generated through heating of relative warm air (e.g. at low latitudes) and cooling of relatively cold air (e.g. at higher latitudes)\n",
    "\n",
    "[SKETCH]\n",
    "\n",
    "As we will see when we look at the numbers, this radiative heating process tends to **increase the mean APE** of the atmosphere by tilting isentropic surfaces."
   ]
  },
  {
   "cell_type": "markdown",
   "id": "4f676404-3ebb-4def-8e63-7b4e8061630c",
   "metadata": {},
   "source": [
    "#### Summary\n",
    "\n",
    "We have written the mean APE budget as\n",
    "\n",
    "$$\\frac{d A_M}{dt} = +C(A_E, A_M) - C(A_M, K_M) + G(A_M) $$"
   ]
  },
  {
   "cell_type": "markdown",
   "id": "28910072-9c92-4c4e-8a6f-78fb7946195c",
   "metadata": {},
   "source": [
    "### Eddy APE budget\n",
    "\n",
    "Finally we can write a budget for the eddy component of the APE:\n",
    "\n",
    "$$ A_E = \\frac{1}{2} \\int \\tilde{\\Gamma} \\frac{[T^{\\prime*2}]}{\\bar{T}} dm $$"
   ]
  },
  {
   "cell_type": "markdown",
   "id": "eca18ddb-d3e4-491e-9c5d-bfd3c19c8711",
   "metadata": {},
   "source": [
    "The approach is similar to what we've done so far. We can use the eddy component of the variance budget we wrote down above, along with some similar manipulations to get\n",
    "\n",
    "\\begin{align*}\n",
    "\\frac{1}{2} \\frac{\\partial}{\\partial t} \\int \\tilde{\\Gamma} \\frac{[T^{\\prime * 2}]}{\\overline{T}} dm = &-\\int \\frac{[v^*T^*]}{a} \\frac{\\partial}{\\partial\\phi} \\left( \\frac{\\tilde{\\Gamma} [T^\\prime]}{\\bar{T}} \\right) - \\int [\\omega^*T^*] \\frac{\\partial}{\\partial p} \\left( \\frac{\\tilde{\\Gamma} [T^\\prime]}{\\bar{T}} \\right) \\\\\n",
    "&+\\int [\\alpha^{\\prime*} \\omega^*] + \\int \\frac{\\tilde{\\Gamma}[T^{\\prime*} \\dot{Q}^* ]}{c_p \\bar{T}} \n",
    "\\end{align*}"
   ]
  },
  {
   "cell_type": "markdown",
   "id": "173c19c6-063d-4cf3-8e04-d18799250976",
   "metadata": {},
   "source": [
    "#### Conversion and generation terms\n",
    "\n",
    "We can identify the following\n",
    "\n",
    "\\begin{align*}\n",
    "C(A_M, A_E) &= -C(A_E, A_M) \\\\\n",
    "C(K_E, A_E) &= -C(A_E, K_E) \\\\\n",
    "G(A_E) &= \\int \\frac{\\tilde{\\Gamma}[T^{\\prime*} \\dot{Q}^* ]}{c_p \\bar{T}} dm\n",
    "\\end{align*}\n",
    "\n",
    "This last term is generation of eddy APE by heating of warm anomalies and cooling of cold anomalies.\n",
    "\n",
    "E.g. along a latitude circle:\n",
    "\n",
    "[SKETCH]\n",
    "\n",
    "which increases the east-west variance of temperature."
   ]
  },
  {
   "cell_type": "markdown",
   "id": "37d007ba-f595-4c34-830e-65ed68dfa27e",
   "metadata": {},
   "source": [
    "#### Summary\n",
    "\n",
    "We have written the eddy APE budget as\n",
    "\n",
    "$$\\frac{d A_E}{dt} = C(A_M, A_E) - C(A_E, K_E) + G(A_E) $$"
   ]
  },
  {
   "cell_type": "markdown",
   "id": "67be642b-440e-42b0-b255-76a174e268c9",
   "metadata": {},
   "source": [
    "## Diagram of the Lorenz energy cycle\n",
    "\n",
    "Our four budget equations are\n",
    "\n",
    "\\begin{align*}\n",
    "\\frac{d A_M}{dt} &= -C(A_M, A_E) - C(A_M, K_M) + G(A_M) \\\\\n",
    "\\frac{d A_E}{dt} &= +C(A_M, A_E) - C(A_E, K_E) + G(A_E) \\\\\n",
    "\\frac{d K_M}{dt} &= +C(K_E, K_M) + C(A_M, K_M) - D(K_M) \\\\\n",
    "\\frac{d K_E}{dt} &= -C(K_E, K_M) + C(A_E, K_E) - D(K_E) \n",
    "\\end{align*}\n",
    "\n",
    "where we have chosen the signs of the conversion terms to be consistent with the typical conversions that actually occur in the global average."
   ]
  },
  {
   "cell_type": "markdown",
   "id": "5f2019b3-e698-4216-ad02-d7ab9ddfba38",
   "metadata": {},
   "source": [
    ":::{figure-md} markdown-fig\n",
    "<img src=\"../images/Marques_Fig1.pdf\" alt=\"Energy cycle diagram\" class=\"bg-primary mb-1\" width=\"800px\">\n",
    "\n",
    "Source: {cite:t}`Marques:2008a`\n",
    ":::"
   ]
  },
  {
   "cell_type": "code",
   "execution_count": null,
   "id": "a91147e6-9a36-4659-bc7f-401191807bbd",
   "metadata": {},
   "outputs": [],
   "source": []
  }
 ],
 "metadata": {
  "kernelspec": {
   "display_name": "Python 3 (ipykernel)",
   "language": "python",
   "name": "python3"
  },
  "language_info": {
   "codemirror_mode": {
    "name": "ipython",
    "version": 3
   },
   "file_extension": ".py",
   "mimetype": "text/x-python",
   "name": "python",
   "nbconvert_exporter": "python",
   "pygments_lexer": "ipython3",
   "version": "3.10.5"
  }
 },
 "nbformat": 4,
 "nbformat_minor": 5
}
