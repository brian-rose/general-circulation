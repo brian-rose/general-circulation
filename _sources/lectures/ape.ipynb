{
 "cells": [
  {
   "cell_type": "markdown",
   "id": "e1774afc-ec5b-4135-bff8-3b573e0d523d",
   "metadata": {},
   "source": [
    "# Available Potential Energy\n",
    "\n",
    "These notes largely follow Chapter 7 of David Randall's *An Introduction to the Global Circulation of the Atmosphere* {cite}`Randall:globalcirc`"
   ]
  },
  {
   "cell_type": "markdown",
   "id": "ac23fcfc-8e59-430d-8a71-7a5521a511ed",
   "metadata": {},
   "source": [
    "## Definitions\n",
    "\n",
    "### Column energetics\n",
    "\n",
    "Under dry adiabatic and frictionless processes, the total energy of the atmosphere is conserved:\n",
    "\n",
    "$$ \\frac{d}{dt} \\int_V (c_v T + \\Phi + K ) \\rho dV $$\n",
    "\n",
    "where the integral is over the mass of the whole atmopshere."
   ]
  },
  {
   "cell_type": "markdown",
   "id": "d7ed1fb0-de8e-4796-8128-a2bf8baffde8",
   "metadata": {},
   "source": [
    "#### Hydrostatic relations\n",
    "\n",
    "Consider a single column of air. The total (vertically integrated) potential energy in a column is\n",
    "\n",
    "$$P \\equiv \\int_0^\\infty g z \\rho dz $$\n",
    "\n",
    "which, for a hydrostatic column where\n",
    "\n",
    "$$ \\frac{\\partial p}{\\partial z} = -\\rho g $$\n",
    "\n",
    "is equivalent to \n",
    "\n",
    "$$P = \\int_0^\\infty \\rho R T dz $$\n",
    "\n",
    "*(can you see why?)*\n",
    "\n",
    "This essentially expresses the fact a warmer column is \"taller\" than a cooler column and so contains more potential energy."
   ]
  },
  {
   "cell_type": "markdown",
   "id": "0016851e-2017-49bc-8302-04abc9d7c422",
   "metadata": {},
   "source": [
    "#### Column enthalpy\n",
    "\n",
    "Now the internal energy of the column is \n",
    "\n",
    "$$ I \\equiv \\int_0^\\infty c_v T \\rho dz $$\n",
    "\n",
    "so the sum of the internal and potential energies is \n",
    "\n",
    "\\begin{align*}\n",
    "P + I &= \\int_0^\\infty g z \\rho dz + \\int_0^\\infty c_v T \\rho dz \\\\\n",
    "&= \\int_0^\\infty (c_v + R) T \\rho dz \\\\\n",
    "&= \\int_0^\\infty c_p T \\rho dz\n",
    "\\end{align*}\n",
    "\n",
    "The vertically integrated sum of internal and potential energies is equal to the vertically integrated sum  of the *enthalpy* $H$ defined by\n",
    "$$ H \\equiv \\int_0^\\infty c_p T \\rho dz $$\n",
    "\n",
    "that is,\n",
    "\n",
    "$$ P+I = H $$\n",
    "\n",
    "(these statements are only true for the vertically mass-weighted integrals!)"
   ]
  },
  {
   "cell_type": "markdown",
   "id": "98492788-1913-4169-95a7-404df3f10df0",
   "metadata": {},
   "source": [
    "It then follows that for a frictionless, adiabatic atmosphere\n",
    "\n",
    "$$ \\frac{d}{dt} (H + K) = 0 $$"
   ]
  },
  {
   "cell_type": "markdown",
   "id": "655a8be9-2d62-4bf8-97ba-92537ff17115",
   "metadata": {},
   "source": [
    "### Available potential idea: basic definition\n",
    "\n",
    "Suppose we rearrange the atmopshere by moving parcels around adiabatically and without friction. The parcels' potential temperature (or entropy) do not change but their enthalpy / temperature do change. Suppose there is a unique state that minimizes $H$ -- i.e. we have reduced $H$ as much as possible from its given initial value.\n",
    "\n",
    "Because $H +K$ does not change, $K$ must be maximized in this special state.\n",
    "\n",
    "The special state was called the *reference state* in the seminal work on this subject by Ed Lorenz {cite}`Lorenz:1955a`. Following {cite:t}`Randall:globalcirc` here, we'll call it the A-state."
   ]
  },
  {
   "cell_type": "markdown",
   "id": "d1537c04-d87b-4729-9f85-25d07e20c69c",
   "metadata": {},
   "source": [
    "A key point is that the mass-integrated potential energy of the entire atmosphere is lower in the A-state than in the given state. In other words, the \"center of gravity\" of the atmosphere descends as the atmopshere adjusts from the given state to the A-state.\n",
    "\n",
    "Two keys processes that reduce $H$ and increase $K$ are convection and baroclinic instability.\n",
    "\n",
    "[SKETCHES: differentially heated atmosphere]"
   ]
  },
  {
   "cell_type": "markdown",
   "id": "ee4c8aa2-9281-4307-9ccc-032eea3e8b82",
   "metadata": {},
   "source": [
    "We can write the energetics of this adjustment like so:\n",
    "\n",
    "\\begin{align*}\n",
    "H_{\\text{given}} &\\rightarrow H_{\\text{min}} \\\\\n",
    "K_{\\text{given}} &\\rightarrow K_{\\text{given}} + (H_{\\text{given}} - H_{\\text{min}} ) = K_{\\text{max}}\n",
    "\\end{align*}\n",
    "\n",
    "where $H_{\\text{min}}$ is the enthalpy in the A-state. We thus define the *available potential energy* or APE through\n",
    "\n",
    "$$ A = H_{\\text{given}} - H_{\\text{min}} \\ge 0 $$\n",
    "\n",
    "This is the fundamental definition of APE as first quantified by {cite:t}`Lorenz:1955a`. It is the fraction of the total potential energy that can be converted to kinetic energy through adiabatic, frictionless rearrangements.\n",
    "\n",
    "Under such conditions, we can express energy conservation as\n",
    "\n",
    "$$ \\frac{d}{dt} ( A + K) = 0 $$\n",
    "\n",
    "Adiabatic, frictionless processes only convert between $A$ and $K$. The APE of the A-state itself is zero."
   ]
  },
  {
   "cell_type": "markdown",
   "id": "3de3fdc5-ff33-4fcd-b7c5-0f4139b82f6b",
   "metadata": {},
   "source": [
    "## Quantifying APE\n",
    "\n",
    "### Properties of the A-state\n",
    "\n",
    "To compute $A$, we have to find the enthalpy of the A-state. Some properties of the A-state include:\n",
    "\n",
    "- No horizontal pressure gradients! Because otherwise there would be accelerations (generation of kinetic energy)\n",
    "    - This implies that temperature (and also potential temperature $\\theta$) must be constant on isobaric surfaces\n",
    "- If $\\theta$ is constant on $p$ surfaces, then equally $p$ must be constant on isentropic surfaces (surfaces of constant $\\theta$)\n",
    "\n",
    "These properties suggest that we can quantify the APE either through variance of $\\theta$ on $p$ surfaces or variance of $p$ on $\\theta$ surfaces\n",
    "\n",
    "[SKETCH Randall's Figure 7.3]\n",
    "\n",
    "To reach the A-state (i.e. to release APE), warm air must rise (move to lower pressure) and cold air must sink (more to higher pressure)!"
   ]
  },
  {
   "cell_type": "markdown",
   "id": "99b98cb4-463a-47e6-9bc6-891d23a749af",
   "metadata": {},
   "source": [
    "### The concept of the massless layer\n",
    "\n",
    "Since we're limiting our analysis to dry adiabatic processes, $\\theta$ is conserved on every parcel. So our rearrangements cannot involve mass crossing isentropic surfaces!\n",
    "\n",
    "This then implies that the average pressure on an isentropic surface cannot change, so must be the same in the A-state. We'll denote this average pressure by $\\overline{p}^\\theta$.\n",
    "\n",
    "Following Lorenz, we will deal with the lower boundary (where $\\theta$ surfaces intersect the ground) by thinking about so-called massless layers\n",
    "\n",
    "[SKETCH Randalls' Figure 7.2]\n",
    "\n",
    "which allows to convert between integrals in pressure and integrals in isentropic coordinates like\n",
    "\n",
    "$$ \\int_0^{p_s} (~) dp = \\int_0^\\infty (~) \\frac{\\partial p}{\\partial \\theta} d\\theta $$\n",
    "\n",
    "The massless layer concept lets us set the lower bound on the integral on the right-hand side to zero."
   ]
  },
  {
   "cell_type": "markdown",
   "id": "67ebe04b-8ce3-4248-8ccd-610d864e5c60",
   "metadata": {},
   "source": [
    "### Derivation of the APE formula\n",
    "\n",
    "\n",
    "#### The total enthalpy\n",
    "\n",
    "We want to express $A$ in terms of $p$ and $\\theta$ rather than $T$. Recall that \n",
    "\n",
    "$$ T = \\theta \\left( \\frac{p}{p_0} \\right)^{\\kappa} $$\n",
    "\n",
    "with $\\kappa = \\frac{R}{c_p}$\n",
    "\n",
    "So the total enthalpy is \n",
    "\n",
    "\\begin{align*}\n",
    "H &= c_p \\int_M T dM \\\\\n",
    "&= c_p p_0^{-\\kappa} \\int_M p^\\kappa \\theta dM \\\\\n",
    "&= \\frac{c_p a^2}{g p_0^\\kappa} \\int_{-\\pi/2}^{\\pi/2} \\int_0^{2\\pi} \\int_0^{p_s} p^\\kappa \\theta \\cos\\phi dp d\\lambda d\\phi\n",
    "\\end{align*}\n",
    "\n",
    "which, using integration by parts, can be rewritten in terms of an integral over $\\theta$:\n",
    "\n",
    "$$ H = \\frac{c_p a^2}{(1+\\kappa) g p_0^\\kappa} \\int_{-\\pi/2}^{\\pi/2} \\int_0^{2\\pi} \\int_0^\\infty p^{(1+\\kappa)} \\cos\\phi d\\theta d\\lambda d\\phi $$"
   ]
  },
  {
   "cell_type": "markdown",
   "id": "fba3a073-6aae-4f0e-9ec5-83f290c84b1b",
   "metadata": {},
   "source": [
    "#### Expressing $A$ as the difference in total enthalpy\n",
    "\n",
    "We now apply the difference\n",
    "\n",
    "$$ A = H_{\\text{given}} - H_{\\text{min}} $$\n",
    "\n",
    "To calculate $H_{\\text{min}}$ (the enthalpy of the A-state), we can replace $p$ with its average on isentropic surfaces $\\overline{p}^\\theta$ -- which we already argued must be the same in the A-state as in the given state.\n",
    "\n",
    "Thus the APE is given by\n",
    "\n",
    "$$ A = \\frac{c_p a^2}{(1+\\kappa) g p_0^\\kappa} \\int_{-\\pi/2}^{\\pi/2} \\int_0^{2\\pi} \\int_0^\\infty \\left[ p^{(1+\\kappa)} - (\\overline{p}^\\theta)^{(1+\\kappa)} \\right] \\cos\\phi d\\theta d\\lambda d\\phi $$"
   ]
  },
  {
   "cell_type": "markdown",
   "id": "cb53284e-0187-45de-bbfc-3592d9a6b5aa",
   "metadata": {},
   "source": [
    "#### Expressing $A$ as a variance of pressure on isentropic surfaces\n",
    "\n",
    "The above expression is accurate but unwieldy. Following {cite:t}`Lorenz:1955a`, we can decompose $$ p(\\theta) = \\overline{p}^\\theta + p^\\prime(\\theta) $$\n",
    "where $p^\\prime(\\theta)$ is departures from the average value on isentropic surfaces. \n",
    "\n",
    "Then we can express the power $p^{(1+\\kappa)}$ (which appears in the above formula for $A$) as\n",
    "$$ p^{1+\\kappa}(\\theta) = (\\overline{p}^\\theta)^{1+\\kappa} \\left[ 1 + \\frac{p^\\prime(\\theta)}{\\overline{p}^\\theta}\\right]^{1+\\kappa} $$\n",
    "and use the binomial theorem to write this as a series expansion like\n",
    "$$ p^{1+\\kappa}(\\theta) = (\\overline{p}^\\theta)^{1+\\kappa} \\left\\{ 1 + (1+\\kappa) \\frac{p^\\prime(\\theta)}{\\overline{p}^\\theta} + \\frac{\\kappa (1+\\kappa)}{2!} \\left[ \\frac{p^\\prime(\\theta)}{\\overline{p}^\\theta} \\right]^2 + \\ldots \\right\\} $$"
   ]
  },
  {
   "cell_type": "markdown",
   "id": "1ffbfac1-df05-4d05-bda0-5100e472fa9a",
   "metadata": {},
   "source": [
    "If we now take the average on isentropic surfaces, and truncate the expansion at the 2nd order, we get Lorenz's expression\n",
    "$$ \\overline{p^{1+\\kappa}(\\theta)} \\approx (\\overline{p}^\\theta)^{1+\\kappa} \\left\\{ 1 + \\frac{\\kappa (1+\\kappa)}{2!} \\overline{\\left[ \\frac{p^\\prime(\\theta)}{\\overline{p}^\\theta} \\right]^2 } \\right\\} $$\n",
    "making use of the fact that $\\overline{p^\\prime(\\theta)} = 0$ (since the prime means deviation away from that mean!)\n",
    "\n",
    "The idea here is that we can substitute this expression into the integral above for $A$, since we have are integrating $p^{1+\\kappa}$ over all $\\theta$ -- we replace the integrand with its mean value.\n",
    "\n",
    "Substituting in and canceling terms gives us\n",
    "\n",
    "$$ A \\approx \\frac{R a^2}{2 g p_0^\\kappa} \\int_{-\\pi/2}^{\\pi/2} \\int_0^{2\\pi} \\int_0^\\infty (\\overline{p}^\\theta)^{1+\\kappa} \\left[ \\frac{p^\\prime(\\theta)}{\\overline{p}^\\theta} \\right]^2 \\cos\\phi d\\theta d\\lambda d\\phi $$\n",
    "\n",
    "which says that the APE proportional to the total (integral) variance of pressure on isentropic surfaces."
   ]
  },
  {
   "cell_type": "markdown",
   "id": "57a8439e-0eb5-41c1-ae52-4667b87793c0",
   "metadata": {},
   "source": [
    "#### More readily computable form: variance of temperature on isobaric surfaces\n",
    "\n",
    "Since we usually have data on pressure surfaces rather than $\\theta$ surfaces, it's more practical to transform this expression back into pressure coordinates using\n",
    "\n",
    "$$ p^\\prime(\\theta) = \\theta^\\prime(p) \\left(\\frac{\\partial \\overline{\\theta}}{\\partial p}\\right)^{-1} $$\n",
    "\n",
    "where now $\\theta^\\prime(p)$ represents deviations of $\\theta$ away from its mean value on $p$-surfaces."
   ]
  },
  {
   "cell_type": "markdown",
   "id": "535d6a3b-c5b5-4111-827c-8a99a776e5a9",
   "metadata": {},
   "source": [
    "Hydrostatic balance can be expressed as\n",
    "\n",
    "$$ \\frac{\\partial \\theta}{\\partial p} -\\frac{\\kappa \\theta}{p} \\left(\\frac{\\Gamma_d - \\Gamma}{\\Gamma_d} \\right) $$\n",
    "with $\\Gamma = -dT/dz$ the lapse rate, and $\\Gamma_d = g/c_p$ the dry adiabatic lapse rate.\n",
    "\n",
    "This allows us to finally express the integral in terms of **temperature variance on pressure surfaces**:\n",
    "\n",
    "$$ A \\approx \\frac{a^2}{2} \\int_{-\\pi/2}^{\\pi/2} \\int_0^{2\\pi} \\int_0^{p_s} \\frac{\\overline{T}}{\\Gamma_d - \\Gamma} \\left[ \\frac{T^\\prime(p)}{\\overline{T}} \\right]^2 \\cos\\phi dp d\\lambda d\\phi $$\n",
    "\n",
    "where now the integral is taken over all pressure surfaces, rather than over all potential temperature surfaces."
   ]
  },
  {
   "cell_type": "markdown",
   "id": "fe76d1e1-248b-47bf-aebb-c4e36d1b279a",
   "metadata": {},
   "source": [
    "#### Conclusions\n",
    "\n",
    "The formula above shows us that APE increases in two different ways:\n",
    "\n",
    "1. APE increases with the variance of temperature on pressure surfaces\n",
    "2. APE increases with lapse rate, i.e. as the atmopshere gets closer to neutral stability\n",
    "\n",
    "Hence, we get a sense that the APE has (roughly speaking) two components: a vertical component related to static stability, and a horizontal component related to horizontal temperature variations.\n",
    "\n",
    "This is also formula we can readily compute from standard data sources!"
   ]
  },
  {
   "cell_type": "code",
   "execution_count": null,
   "id": "50ad750f-5355-40f1-870d-250f3fca0acc",
   "metadata": {},
   "outputs": [],
   "source": []
  }
 ],
 "metadata": {
  "kernelspec": {
   "display_name": "Python 3 August 2022 Environment",
   "language": "python",
   "name": "aug22"
  },
  "language_info": {
   "codemirror_mode": {
    "name": "ipython",
    "version": 3
   },
   "file_extension": ".py",
   "mimetype": "text/x-python",
   "name": "python",
   "nbconvert_exporter": "python",
   "pygments_lexer": "ipython3",
   "version": "3.10.5"
  }
 },
 "nbformat": 4,
 "nbformat_minor": 5
}
