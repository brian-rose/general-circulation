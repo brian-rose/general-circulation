{
 "cells": [
  {
   "cell_type": "markdown",
   "id": "11850fa8-a771-4268-96cb-7e686c077f71",
   "metadata": {},
   "source": [
    "# Angular Momentum Budget\n",
    "\n",
    "## Introduction\n",
    "\n",
    "We're going to talk about three key budgets of materially conserved quantities:\n",
    "\n",
    "1. Angular Momentum\n",
    "2. Energy\n",
    "3. Water Vapor\n",
    "\n",
    "The general idea running through these topics is that we have a quantity that *obeys some conservation principle* embeded in the equations of motion, and that over a \"long enough\" time period that quantity must be in **steady state** in the atmosphere.\n",
    "\n",
    "For any quantity in steady state, we must have a balance between local *sources* and *sinks* of that quantity and *flux divergence / convergence* of the same quantity.\n",
    "\n",
    "### Vertical integrals\n",
    "\n",
    "In addition to zonal and time averages, we will sometimes employ a vertical integral (weighted by mass):\n",
    "\n",
    "$$ <A> = \\frac{1}{g} \\int_0^{p_s} A dp \\approx \\int_0^{\\infty} A \\rho dz $$\n",
    "\n",
    "where $p_s$ is the surface pressure."
   ]
  },
  {
   "cell_type": "markdown",
   "id": "64cb72e3-2fa7-4de5-9163-623066ff88e5",
   "metadata": {},
   "source": [
    "## Angular momentum basics\n",
    "\n",
    "The total angular momentum of the solid Earth and its fluid components is approximately conserved.\n",
    "\n",
    "Angular momentum is exchanged between the solid Earth and the atmosphere, but on greater than annual timescales, there should be no net exchange.\n",
    "\n",
    "### Length of day\n",
    "\n",
    "Changes in the angular momentum of the solid Earth are reflected in fluctuations of the [Length of Day](https://en.wikipedia.org/wiki/Day_length_fluctuations):\n",
    "\n",
    "<p><a href=\"https://commons.wikimedia.org/wiki/File:Deviation_of_day_length_from_SI_day.svg#/media/File:Deviation_of_day_length_from_SI_day.svg\"><img src=\"https://upload.wikimedia.org/wikipedia/commons/thumb/5/5b/Deviation_of_day_length_from_SI_day.svg/1200px-Deviation_of_day_length_from_SI_day.svg.png\" alt=\"Deviation of day length from SI day.svg\"></a><br>By &lt;a href=\"//commons.wikimedia.org/w/index.php?title=User:%E2%85%A1_%E2%85%A6_%E2%85%AB&amp;amp;action=edit&amp;amp;redlink=1\" class=\"new\" title=\"User:Ⅱ Ⅶ Ⅻ (page does not exist)\"&gt;Ⅱ Ⅶ Ⅻ&lt;/a&gt; - &lt;span class=\"int-own-work\" lang=\"en\"&gt;Own work&lt;/span&gt;, data: &lt;a href=\"https://en.wikipedia.org/wiki/IERS\" class=\"extiw\" title=\"en:IERS\"&gt;IERS&lt;/a&gt; &lt;a rel=\"nofollow\" class=\"external autonumber\" href=\"http://hpiers.obspm.fr/eoppc/eop/eopc04/eopc04.62-now\"&gt;[1]&lt;/a&gt;, Public Domain, <a href=\"https://commons.wikimedia.org/w/index.php?curid=9395571\">Link</a></p>\n",
    "\n",
    "There's clearly lots of interesting low-frequency variability, but for our purposes we'll pay most attention to the annual timescale: fluctuations of order 1 ms. It turns out that these are well-correlated with seasonal flucutations in atmospheric angular momentum.\n",
    "\n",
    "Hopefully we'll be able to calculate this shortly directly from the CFSR data!"
   ]
  },
  {
   "cell_type": "markdown",
   "id": "fad9c7bf-17d5-4e2c-a709-4c45899b74f4",
   "metadata": {},
   "source": [
    "### Definitions and notation\n",
    "\n",
    "Let $\\vec{r}$ be the position vector from the axis of rotation, and let $\\vec{u}_a$ be the absolute velocity as measured in the *inertial* frame.\n",
    "\n",
    "**Sketch of sphere**\n",
    "\n",
    "Then we define the **angular momentum**\n",
    "\n",
    "$$\\vec{M} = \\vec{r} \\times \\vec{u}_a $$\n",
    "\n",
    "and its changes are governed by\n",
    "\n",
    "$$ \\frac{d\\vec{M}}{dt} = \\vec{r} \\times \\vec{F} $$\n",
    "\n",
    "where $\\vec{F}$ is the net force, and $\\vec{r} \\times \\vec{F}$ is the net **torque**.\n",
    "\n",
    "Two important torques we will discuss include the frictional torque and the mountain torque.\n",
    "\n",
    "Now define the relative velocity $\\vec{u}$ through\n",
    "\n",
    "$$ \\vec{u}_a = \\vec{\\Omega} \\times \\vec{r} + \\vec{u} $$\n",
    "\n",
    "where $\\vec{\\Omega}$ is the Earth's rotation vector. So the angular momentum can be written\n",
    "\n",
    "\\begin{align*}\n",
    "\\vec{M} &= \\vec{r} \\times \\left( \\vec{\\Omega} \\times \\vec{r} + \\vec{u} \\right) \\\\\n",
    "&= \\Omega (a \\cos\\phi)^2 \\hat{\\Omega} + \\vec{r} \\times \\vec{u}\n",
    "\\end{align*}\n",
    "\n",
    "where $\\hat{\\Omega}$ is a unit vector aligned with the axis of rotation. This is valid for the thin-shell approximation, $z<<a$ where $a$ is the radius of the Earth.\n",
    "\n",
    "The planetary component dictates the predominant direction of $\\vec{M}$, so we are most interested in the component of $\\vec{r} \\times \\vec{u}$ also parallel to $\\hat{\\Omega}$:\n",
    "\n",
    "$$ \\hat{\\Omega} \\cdot (\\vec{r} \\times \\vec{u}) = u a \\cos\\phi $$\n",
    "\n",
    "So let's define this (scalar) quantity:\n",
    "\n",
    "$$ M = \\Omega a^2 \\cos^2\\phi + u a \\cos\\phi $$\n",
    "\n",
    "where the first term is the **planetary angular momentum** and the second term is the **relative angular momentum**."
   ]
  },
  {
   "cell_type": "code",
   "execution_count": null,
   "id": "4e042311-5ac8-4e6c-96c7-3e7726984405",
   "metadata": {},
   "outputs": [],
   "source": [
    "# Show figures of Absolute and Relative angular momentum. The relative term is about two orders of magnitude smaller but has interesting structure"
   ]
  },
  {
   "cell_type": "markdown",
   "id": "25475a3c-ee76-4a6c-8752-ad2d48a646c5",
   "metadata": {},
   "source": [
    ":::{figure-md} markdown-fig\n",
    "<img src=\"../images/angular-momentum-randall.png\" alt=\"Absolute and relative angular momentum\" class=\"bg-primary mb-1\" width=\"800px\">\n",
    "\n",
    "The observed absolute (left panels) and relative (right panels) atmopspheric angular momentum per unit mass, for January and July. The units are $10^{7}$ m$^{2}$ s$^{-1}$. Source: {cite:t}`Randall:globalcirc`\n",
    ":::"
   ]
  },
  {
   "cell_type": "markdown",
   "id": "e616744d-114b-43ab-86d0-34de7f686494",
   "metadata": {},
   "source": [
    "Try to make our own plots (use a single calendar year for simplicity)"
   ]
  },
  {
   "cell_type": "code",
   "execution_count": null,
   "id": "2a98cb58-e1f6-4a0a-80a4-8b73cbb84948",
   "metadata": {},
   "outputs": [],
   "source": [
    "import xarray as xr\n",
    "\n",
    "cfsr_path = '/cfsr/data/'\n",
    "year = '2021'\n",
    "\n",
    "ds = xr.open_dataset(cfsr_path + year + '/u.' + year + '.0p5.anl.nc')\n",
    "ds"
   ]
  },
  {
   "cell_type": "code",
   "execution_count": null,
   "id": "4a2e103e-5872-4f41-be4a-0b1634c6b425",
   "metadata": {},
   "outputs": [],
   "source": []
  }
 ],
 "metadata": {
  "kernelspec": {
   "display_name": "Python 3 (ipykernel)",
   "language": "python",
   "name": "python3"
  },
  "language_info": {
   "codemirror_mode": {
    "name": "ipython",
    "version": 3
   },
   "file_extension": ".py",
   "mimetype": "text/x-python",
   "name": "python",
   "nbconvert_exporter": "python",
   "pygments_lexer": "ipython3",
   "version": "3.10.5"
  }
 },
 "nbformat": 4,
 "nbformat_minor": 5
}
