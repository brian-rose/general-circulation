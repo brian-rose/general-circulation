{
 "cells": [
  {
   "cell_type": "markdown",
   "id": "ec5d02dc-54d9-4249-a7f6-83f469845f02",
   "metadata": {},
   "source": [
    "# Theories of the Hadley circulation"
   ]
  },
  {
   "cell_type": "markdown",
   "id": "db18a3ee-c1cf-44e1-b97a-d3d6594edd27",
   "metadata": {},
   "source": [
    "## Motivation\n",
    "\n",
    "So far we've seen that the atmospheric circulation in the low latitudes is dominated by the zonally-symmetric overturning, while away from the equator the eddies tend to dominate.\n",
    "\n",
    "We've seen that there is a seamless transport of energy from the equator to the poles, despite the fact that the dominant transport mechanism changes from the MMC in the tropics to transient eddies in mid-latitudes.\n",
    "\n",
    "Some questions we'd like to get physical insight into:\n",
    "\n",
    "- What determines the strength of the Hadley circulation?\n",
    "- What determines the meridional extend of the Hadley circulation?\n",
    "- Can the Hadley circulation exist in the absence of eddies?\n",
    "- What roles are played by differential heating and eddies in the maintenance of the Hadley circulation?\n",
    "\n",
    "To start to answer these questions, we follow the classic paper by Held and Hou {cite}`Held:1980hu`.\n",
    "\n",
    "See also Lindzen's book, Vallis, etc."
   ]
  },
  {
   "cell_type": "markdown",
   "id": "b9967599-0d6b-420e-938c-48087df7d020",
   "metadata": {},
   "source": [
    "## Assumptions and governing equations\n",
    "\n",
    "We will make the following assumptions\n",
    "\n",
    "- We can model the troposphere as a Boussinesq system of depth $H$ (where $H$ is the tropopause height) on a sphere\n",
    "- The flow is *steady in time*\n",
    "- The flow is *zonally symmetric*, i.e. it has no variations in longitude\n",
    "- Turbulence and frictional effects can be modeled by a vertical down-gradient diffusion\n",
    "- Diabatic heating can be modeled by a Newtonian relaxation to a reference profile with a constant timescale $\\tau$\n",
    "\n",
    "### Governing equations\n",
    "\n",
    "We'll define the zonally symmetric overturning circulation vector\n",
    "\n",
    "$$ \\vec{v} = (v,w) $$\n",
    "\n",
    "And write the governing set of equations like this:\n",
    "\n",
    "\\begin{align*}\n",
    "\\text{Momentum:} & & \\nabla\\cdot (\\vec{v} u) - \\left( f + \\frac{u \\tan\\phi}{a} \\right) v &= \\frac{\\partial}{\\partial z} \\left( \\nu \\frac{\\partial u}{\\partial z} \\right) \\\\\n",
    "& & (\\vec{v} v) + \\left( f + \\frac{u \\tan\\phi}{a} \\right) u &= -\\frac{1}{a}\\frac{\\partial \\Phi}{\\partial \\phi} + \\frac{\\partial}{\\partial z} \\left( \\nu \\frac{\\partial v}{\\partial z} \\right) \\\\\n",
    "\\text{Continuity} & & \\nabla \\cdot \\vec{v} &= 0 \\\\\n",
    "\\text{Thermodynamic} & & \\nabla \\cdot ( \\vec{v} \\theta ) &= \\frac{\\partial}{\\partial z} \\left( \\nu \\frac{\\partial \\theta}{\\partial z} \\right) - \\frac{(\\theta-\\theta_{eq})}{\\tau} \\\\\n",
    "\\text{Hydrostatic} & & \\frac{\\partial \\Phi}{\\partial z} &= g \\frac{\\theta}{\\theta_0} \n",
    "\\end{align*}\n",
    "\n",
    "Here recall that the Boussinesq pressure is\n",
    "\n",
    "$$\\Phi = \\frac{p}{\\rho_0} $$\n",
    "\n",
    "and $\\theta_0, \\rho_0$ are reference values.\n",
    "\n",
    "An appropriate radiative relaxation timescale for the troposphere is $\\tau \\approx 30$ days."
   ]
  },
  {
   "cell_type": "markdown",
   "id": "3c435bbf-60c2-4f39-b2e6-1deac1b5408e",
   "metadata": {},
   "source": [
    "### The radiative-convective equilibrium temperature profile\n",
    "\n",
    "Following {cite:t}`Held:1980hu`, we define our equilibrium temperature like this\n",
    "\n",
    "$$ \\theta_{eq} = \\theta_0 \\left[ 1 - \\Delta_H \\sin^2\\phi + \\Delta_V \\left( \\frac{z}{H} - \\frac{1}{2} \\right) \\right] $$\n",
    "\n",
    "where we take\n",
    "\n",
    "- $\\theta_0 = 400$ K as a reference potential temperature\n",
    "- $\\theta_H = 0.3$ is the fractional potential temperature drop from equator to pole in radiative-convective equilibrium\n",
    "- $\\theta_V = 0.3$ is the fractional potential temperature drop from $z=H$ to the surface in radiative-convective equilibrium"
   ]
  },
  {
   "cell_type": "markdown",
   "id": "b57b9699-930e-467a-b7b3-bf31eb5e46a2",
   "metadata": {},
   "source": [
    "### Boundary conditions\n",
    "\n",
    "At the tropopause $z=H$ we apply *no-flow* and *free-slip* conditions:\n",
    "\n",
    "\\begin{align*}\n",
    "w(H) &= 0 \\\\\n",
    "\\frac{\\partial \\theta}{\\partial z}\\Big|_{z=H} &= 0 \\\\\n",
    "\\frac{\\partial u}{\\partial z}\\Big|_{z=H} & = 0 \\\\\n",
    "\\frac{\\partial v}{\\partial z}\\Big|_{z=H} & = 0 \n",
    "\\end{align*}\n",
    "\n",
    "At the surface, we apply *no-flow* and a simple Rayleigh drag condition:\n",
    "\n",
    "\\begin{align*}\n",
    "w(0) &= 0 \\\\\n",
    "\\frac{\\partial \\theta}{\\partial z}\\Big|_{z=0} &= 0 \\\\\n",
    "\\nu\\frac{\\partial u}{\\partial z}\\Big|_{z=0} & = c u \\\\\n",
    "\\nu\\frac{\\partial v}{\\partial z}\\Big|_{z=0} & = c v \n",
    "\\end{align*}\n",
    "\n",
    "Finally, we impose *interhemispheric symmetry* -- no cross-equatorial flow:\n",
    "\n",
    "$$ v = 0  $$\n",
    "\n",
    "at $\\phi = 0$."
   ]
  },
  {
   "cell_type": "markdown",
   "id": "32f837fa-2199-4756-97f0-4dece0426d38",
   "metadata": {},
   "source": [
    "## Frictional solution: pure radiative-convective equilibrium\n",
    "\n",
    "First, let's look at the case of a purely frictionless / non-turbulent flow where\n",
    "\n",
    "$$\\nu = 0$$\n",
    "\n",
    "A solution to the governing equations exists for which the flow is purely zonal with no overturning:\n",
    "\n",
    "\\begin{align*}\n",
    "u &= u_{eq} \\\\\n",
    "v &= 0 \\\\\n",
    "w &= 0\n",
    "\\end{align*}\n",
    "\n",
    "In such a case, the thermodynamic equation tells us that \n",
    "\n",
    "$$ \\theta = \\theta_{eq} $$\n",
    "\n",
    "everywhere, i.e. the atmosphere is in a state of radiative-convective equilibrium."
   ]
  },
  {
   "cell_type": "markdown",
   "id": "85884413-590e-4941-9d0a-4349b4d2c66e",
   "metadata": {},
   "source": [
    "### Solving for the zonal wind profile\n",
    "\n",
    "We would like to see what this model predicts for the vertical and meridional profile of the zonal wind $u_{eq}$ in the radiative-convective equilibrium state.\n",
    "\n",
    "The zonal momentum equation becomes\n",
    "\n",
    "$$ f u_{eq} + \\frac{u_{eq}^2 \\tan\\phi}{a} = -\\frac{1}{a} \\frac{\\partial \\Phi}{\\partial \\phi} $$\n",
    "\n",
    "Deriving a thermal wind equation by taking the vertical derivative and using hydrostatic balance:\n",
    "\n",
    "$$\\frac{\\partial}{\\partial z} \\left( f u_{eq} + \\frac{u_{eq}^2 \\tan\\phi}{a} \\right) = -\\frac{g}{a \\theta_0} \\frac{\\partial \\theta_{eq}}{\\partial \\phi}$$\n",
    "\n",
    "From the definition of $\\theta_{eq}$ we get\n",
    "\n",
    "$$\\frac{\\partial \\theta_{eq}}{\\partial \\phi} = -2\\Delta_H \\theta_0 \\sin\\phi \\cos\\phi $$\n",
    "\n",
    "So, integrating the thermal wind equation in the vertical and applying the boundary condition $u_{eq}(0) = 0$, we get\n",
    "\n",
    "$$f u_{eq} + \\frac{u_{eq}^2 \\tan\\phi}{a} = \\frac{2 g \\Delta_H}{a} \\sin\\phi \\cos\\phi z$$\n",
    "\n",
    "which is a quadratic equation in $u_{eq}$ that we can solve:\n",
    "\n",
    "$$u_{eq} = \\Omega a \\cos\\phi \\left( \\sqrt{1 + \\frac{2 z}{H} \\left(\\frac{g H \\delta_H}{(\\Omega a)^2}\\right)} - 1 \\right)$$"
   ]
  },
  {
   "cell_type": "markdown",
   "id": "3acccce7-4cc2-4c9e-a97a-5693c0de275b",
   "metadata": {},
   "source": [
    "... more to come"
   ]
  },
  {
   "cell_type": "code",
   "execution_count": null,
   "id": "f582eb5a-aec5-4920-b6af-b9f89ef0bdd7",
   "metadata": {},
   "outputs": [],
   "source": []
  }
 ],
 "metadata": {
  "kernelspec": {
   "display_name": "Python 3 (ipykernel)",
   "language": "python",
   "name": "python3"
  },
  "language_info": {
   "codemirror_mode": {
    "name": "ipython",
    "version": 3
   },
   "file_extension": ".py",
   "mimetype": "text/x-python",
   "name": "python",
   "nbconvert_exporter": "python",
   "pygments_lexer": "ipython3",
   "version": "3.10.5"
  }
 },
 "nbformat": 4,
 "nbformat_minor": 5
}
