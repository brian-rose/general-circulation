{
 "cells": [
  {
   "cell_type": "markdown",
   "id": "71b78311-92b6-4593-a2db-4b7d08603320",
   "metadata": {},
   "source": [
    "# Effect of eddies on the zonal mean circulation\n",
    "\n",
    "## Motivation\n",
    "\n",
    "We saw at the [end of the last set of notes](https://brian-rose.github.io/general-circulation/lectures/hadley.html#effects-of-eddies-on-the-hadley-cell-qualitative-and-diagnostic-arguments) that both eddy momentum fluxes and eddy heat (buoyancy) fluxes are both involved in determing the zonal-mean flow:\n",
    "\n",
    "\\begin{align*}\n",
    "\\frac{\\partial [u]}{\\partial t} &= f[v] -\\frac{1}{a\\cos\\phi} \\frac{\\partial}{\\partial \\phi} ([u^*v^*] \\cos\\phi) \\\\\n",
    "\\frac{\\partial [b]}{\\partial t} &= -N^2 [w] -\\frac{1}{a\\cos\\phi} \\frac{\\partial}{\\partial \\phi} ( [v^* b^*] \\cos\\phi ) + \\dot{Q} \n",
    "\\end{align*}\n",
    "\n",
    "Let's consider the effects of an eddy heat flux on a frictionless, adiabatic system ($\\dot{Q} = 0$).\n",
    "\n",
    "At steady state, the thermodynamic equation tells us that we must have an Eulerian mean overturning circulation with vertical component\n",
    "\n",
    "$$ [w] = -\\frac{1}{a\\cos\\phi N^2} \\frac{\\partial}{\\partial \\phi} ( [v^* b^*] \\cos\\phi ) $$\n",
    "\n",
    "which in turn, by mass conservation, requires a horizontal component of the overturning $[v]$.\n",
    "\n",
    "But $[v]$ enters into the momentum equation through the Coriolis force.\n",
    "\n",
    "So, *eddy heat fluxes must **accelerate** the zonal mean zonal wind $[u]$ through Coriolis forces associated with the overturning circulation*. Eddy heat fluxes appear in the zonal mean momentum equation disguised as Coriolis force.\n",
    "\n",
    "Are you confused yet?\n",
    "\n",
    "Maybe there's a better way to express the **combined effect of eddy heat and momentum fluxes** that clarify under what conditions the eddies can accelerate the mean zonal flow $[u]$. \n",
    "\n",
    "[Related, we've also seen that the [Lorenz cycle](https://brian-rose.github.io/general-circulation/lectures/ape.html#diagram-of-the-lorenz-energy-cycle) reveals substantial conversion from eddy kinetic energy to kinetic energy of the mean flow]\n",
    "\n",
    "Along the way, we may also find a better way to think about the overturning circulation in a flow dominated by eddies."
   ]
  },
  {
   "cell_type": "markdown",
   "id": "ac7661ed-3974-4bd6-8129-9aaf432782a6",
   "metadata": {},
   "source": [
    "## The Transformed Eulerian Mean (TEM) or \"Residual Circulation\"\n",
    "\n",
    "### The residual overturning required by diabatic heating\n",
    "\n",
    "Define a \"residual\" vertical motion $w_{res}$ as the direct response to diabatic heating, accounting for the large cancellation between eddy heat flux convergence and adiabatic ascent:\n",
    "\n",
    "$$ \\frac{\\partial [b]}{\\partial t} = -N^2 w_{res} + \\dot{Q} $$\n",
    "\n",
    "where we have just wrapped the eddy heat flux term into $w_{res}$:\n",
    "\n",
    "$$ w_{res} = [w] + \\frac{1}{a\\cos\\phi N^2} \\frac{\\partial}{\\partial \\phi} ( [v^* b^*] \\cos\\phi ) $$\n",
    "\n",
    "So far, just clever notation.\n",
    "\n",
    "Now, let's define the horizonal component of the residual overturning $v_{res}$ to obey mass continuity:\n",
    "\n",
    "$$ \\frac{1}{a\\cos\\phi} \\frac{\\partial}{\\partial \\phi} \\left( v_{res} \\cos\\phi \\right) + \\frac{\\partial}{\\partial z} w_{res} = 0 $$\n",
    "\n",
    "So between $v_{res}$ and the Eulerian mean $[v]$ must be\n",
    "\n",
    "$$ v_{res} = [v] - \\frac{\\partial}{\\partial z} \\left( \\frac{[v^* b^*]}{N^2}  \\right)$$\n",
    "\n",
    "Together $v_{res}, w_{res}$ describe a residual overturning circulation specifically required by the diabatic heating!\n",
    "\n",
    "### Acceleration of the zonal mean wind\n",
    "\n",
    "Now let's use this to rewrite the momentum equation in terms of the Coriolis force due to $v_{res}$:\n",
    "\n",
    "\\begin{align*}\n",
    "\\frac{\\partial [u]}{\\partial t} &= f[v] -\\frac{1}{a\\cos\\phi} \\frac{\\partial}{\\partial \\phi} ([u^*v^*] \\cos\\phi) \\\\\n",
    "&= f\\left( v_{res} +  \\frac{\\partial}{\\partial z} \\left( \\frac{[v^* b^*]}{N^2}  \\right) \\right) -\\frac{1}{a\\cos\\phi} \\frac{\\partial}{\\partial \\phi} ([u^*v^*] \\cos\\phi)\n",
    "\\end{align*}\n",
    "\n",
    "or, rewriting with only eddy forcing terms on the RHS:\n",
    "\n",
    "$$ \\frac{\\partial [u]}{\\partial t} - f v_{res} = -\\frac{1}{a\\cos\\phi} \\frac{\\partial}{\\partial \\phi} ([u^*v^*] \\cos\\phi) + f \\frac{\\partial}{\\partial z} \\left( \\frac{[v^* b^*]}{N^2}  \\right) $$\n",
    "\n",
    "This is actually a deep result. $v_{res}$ is determined entirely by the zonal diabatic heating, regardless of what the eddies are doing. Our transformed momentum equation tells that there's a very specific combination of eddy heat and momemtum fluxes that accelerate the zonal mean wind. \n",
    "\n",
    "The transformed equation no longer has any \"hidden\" eddy effects -- it expresses more completely how the eddies drive the mean flow."
   ]
  },
  {
   "cell_type": "markdown",
   "id": "97ee3da4-afe2-4c6f-872f-ab6de1aca3e3",
   "metadata": {},
   "source": [
    "### The Eliassen-Palm flux vector\n",
    "\n",
    "It's useful and traditional to define a vector $\\vec{F}$ (in the latitude-height plane) whose divergence appears on the RHS of the momentum equation. That is, we want to write the Transformed Eulerian Mean system like this:\n",
    "\n",
    "\\begin{align*}\n",
    "\\frac{\\partial [u]}{\\partial t} - f v_{res} &= \\nabla \\cdot \\vec{F} \\\\\n",
    "\\frac{\\partial [b]}{\\partial t} &= -N^2 w_{res} + \\dot{Q} \n",
    "\\end{align*}"
   ]
  },
  {
   "cell_type": "markdown",
   "id": "b1ec9d6e-2afe-416f-b9c6-1d3e12479f63",
   "metadata": {},
   "source": [
    "From the transformed momentum equation above, we can see that\n",
    "- the vertical component of $\\vec{F}$ must be propotional to eddy heat flux\n",
    "- the horizontal component of $\\vec{F}$ must be proportional to eddy momentum flux (but in reverse direction)\n",
    "\n",
    "More precisely, we can define $\\vec{F}$ for this system like this:\n",
    "\n",
    "$$ \\vec{F} = -[u^* v^*] \\hat{j} + \\frac{f}{N^2} [v^* b^*] \\hat{k} $$\n",
    "\n",
    "The vector $\\vec{F}$ is called the Eliassen-Palm flux, after a pioneering paper by {cite:t}`Eliassen:1961qw`."
   ]
  },
  {
   "cell_type": "markdown",
   "id": "e09914ea-ec7d-4d38-8efb-460e1ca3bdfc",
   "metadata": {},
   "source": [
    "## A potential vorticity perspective\n",
    "\n",
    "### The idea\n",
    "\n",
    "We've been talking about combining momentum and thermodynamic constraints together into a single quantity $\\vec{F}$. That may sound familiar. \n",
    "\n",
    "Recall that under the Quasi-Geostrophic approximation, we boil down all the dynamics into a single prognostic scalar, the quasi-geostrophic potential vorticity (QGPV).  We might therefore expect a deep relationship between PV dynamics and the Eliassen-Palm flux $\\vec{F}$.\n",
    "\n",
    "And there is!\n",
    "\n",
    "### Zonal average QGPV equation\n",
    "\n",
    "Let's write\n",
    "\n",
    "\n",
    "[Need to fill in details here]\n",
    "\n",
    "The key result\n",
    "\n",
    "$$[v^*q^*] = \\nabla \\cdot \\vec{F} $$\n",
    "\n",
    "The divergence of the EP flux (which is a specific combination of eddy heat and momentum fluxes) is equivalent to a northward eddy flux of QGPV!\n",
    "\n",
    "So another form of the TEM equations is (under the quasi-geostrophic approximation):\n",
    "\n",
    "\\begin{align*}\n",
    "\\frac{\\partial [u]}{\\partial t} - f v_{res} &= [v^* q^*] \\\\\n",
    "\\frac{\\partial [b]}{\\partial t} &= -N^2 w_{res} + \\dot{Q} \n",
    "\\end{align*}\n",
    "\n",
    "### A perspective on the steady, balanced circulation\n",
    "\n",
    "For a balanced time-mean flow, our TEM equations thus say\n",
    "\n",
    "\\begin{align*}\n",
    " - f v_{res} &= [v^* q^*] \\\\\n",
    "N^2 w_{res} &=  \\dot{Q} \n",
    "\\end{align*}\n",
    "\n",
    "Now consider the fact that the diabatic heating tends to decrease from equator to pole. So $w_[res]$ might be upward near the equator and downward near the pole.\n",
    "\n",
    "We infer from this that $v_{res}$ must be poleward aloft (to conserve mass) -- i.e. $v_{res} > 0$. The residual circulation should look something like a big equator-to-pole scale Hadley cell!\n",
    "\n",
    "But this poleward residual circulation applies an *eastward* Coriolis force on the zonal wind. To have a steady balance, the eddies must be arranged to produce an equal and opposite *westward* force.\n",
    "\n",
    "We can infer from this that the eddies must be fluxing QGPV *equatorward*, i.e. $[v^* q^*] < 0$\n",
    "\n",
    "Since the planetary PV increases toward the poles, the eddies are thus flux PV down the mean gradient. Unlike for momentum, the eddies behave diffusively in the PV framework -- acting to transport PV from the high reservoir near the poles to the low reservoir near the equator."
   ]
  },
  {
   "cell_type": "markdown",
   "id": "4ec3ca06-0ce7-464c-9f29-7b66b5fde134",
   "metadata": {},
   "source": [
    "## TEM equations for the atmosphere\n",
    "\n",
    "The theory and diagnostic method are laid out in a well-known paper by {cite:t}`Edmon:1980jx`.\n",
    "\n",
    "### The EP flux vector components for the atmosphere\n",
    "\n",
    "The appropriate definitions for the components of $\\vec{F}$ are\n",
    "\n",
    "\\begin{align*}\n",
    "F_\\phi &= -a \\cos\\phi [u^* v^*] \\\\\n",
    "F_p &= f a \\cos\\phi \\frac{[v^* \\theta^*]}{\\sigma}\n",
    "\\end{align*}\n",
    "\n",
    "where we now use pressure coordinates, measure buoyancy using potential temperature $\\theta$, and we have defined a stratification parameter\n",
    "\n",
    "$$ \\sigma \\equiv \\frac{\\partial [\\theta]}{\\partial p} $$\n",
    "\n",
    "*Note that $\\sigma<0$ for statically stable conditions since $\\theta$ increases upward.*"
   ]
  },
  {
   "cell_type": "markdown",
   "id": "0e74b3fc-f322-4387-9b7b-5a9d76b510c8",
   "metadata": {},
   "source": [
    "### Complete set of TEM equations for the atmosphere\n",
    "\n",
    "TEM equations for the atmosphere on a sphere look like\n",
    "\n",
    "\\begin{align*}\n",
    "\\frac{\\partial [u]}{\\partial t} - f v_{res} &= \\frac{1}{a \\cos\\phi} \\nabla \\cdot \\vec{F} \\\\\n",
    "f \\frac{\\partial [u]}{p} - \\frac{R}{a} \\frac{\\partial [\\theta]}{\\partial \\phi} &= 0\\\\\n",
    "\\frac{\\partial [\\theta]}{\\partial t} + \\sigma \\omega_{res} &= \\dot{Q} \\\\\n",
    "\\frac{1}{a \\cos\\phi} \\frac{\\partial}{\\partial \\phi} \\left( v_{res} \\cos\\phi \\right) + \\frac{\\partial \\omega_{res}}{\\partial p} &= 0 \n",
    "\\end{align*}"
   ]
  },
  {
   "cell_type": "markdown",
   "id": "9ae41980-098b-4e0e-862b-23f56e72f05b",
   "metadata": {},
   "source": [
    "### The residual mean for the atmosphere\n",
    "\n",
    "Definitions for $v_{res}$ and $\\omega_{res}$ consistent with the above equations are\n",
    "\n",
    "\\begin{align*}\n",
    "v_{res} &= [v] - \\frac{\\partial}{\\partial p} \\left( \\frac{ [v^*\\theta^*]}{\\sigma} \\right) \\\\\n",
    "\\omega_{res} &= [\\omega] _ \\frac{1}{a\\cos\\phi} \\frac{\\partial}{\\partial \\phi} \\left( \\frac{[v^* \\theta^*] \\cos\\phi}{\\sigma} \\right) \n",
    "\\end{align*}"
   ]
  },
  {
   "cell_type": "markdown",
   "id": "c62cc471-2548-4dab-bfd6-32974b2dd89a",
   "metadata": {},
   "source": [
    "### An angular momentum equation\n",
    "\n",
    "The Eulerian mean angular momentum $[M]$ is\n",
    "\n",
    "$$[M] = \\Omega a^2 \\cos^2\\phi + [u] a \\cos\\phi$$\n",
    "\n",
    "so the transformed zonal momentum equation can also be expressed in terms of angular momentum as\n",
    "\n",
    "$$ \\frac{\\partial [M]}{\\partial t} + \\frac{v_{res}}{a} \\frac{\\partial M}{\\partial \\phi} = \\nabla \\cdot \\vec{F} $$\n",
    "\n",
    "to quasi-geostrophic order.\n",
    "\n",
    "This form shows that the divergence of the EP flux is a direct eddy forcing on the zonal mean angular momentum -- a torque on the atmosphere!"
   ]
  },
  {
   "cell_type": "markdown",
   "id": "dcc7cc24-594e-459d-be30-4e4f67bfdfc6",
   "metadata": {},
   "source": [
    "## Plotting the Eliassen-Palm cross-section from reanalysis data"
   ]
  },
  {
   "cell_type": "markdown",
   "id": "6146eaa5-b03a-4f88-b46a-ca2e6f7a790f",
   "metadata": {},
   "source": [
    "### The classic figure\n",
    "\n",
    "We are going to make an updated version of this famous figure showing $\\vec{F}$ and its divergence:\n",
    "\n",
    ":::{figure-md} markdown-fig\n",
    "<img src=\"../images/Edmon_Fig5.pdf\" alt=\"Eliassen-Palm cross-section\" width=\"800px\">\n",
    "\n",
    "Source: {cite:t}`Edmon:1980jx` (Their Figure 5). \n",
    ":::"
   ]
  },
  {
   "cell_type": "markdown",
   "id": "63fedee3-183e-4849-aef3-1232cee16a9b",
   "metadata": {},
   "source": [
    "### Load the CFSR data and get to work"
   ]
  },
  {
   "cell_type": "code",
   "execution_count": null,
   "id": "9e061597-10a9-40bf-8e5b-382ae35d2098",
   "metadata": {},
   "outputs": [],
   "source": [
    "import xarray as xr\n",
    "import numpy as np\n",
    "import matplotlib.pyplot as plt"
   ]
  },
  {
   "cell_type": "code",
   "execution_count": null,
   "id": "fade3a1b-bde8-44af-80f3-9a483ce7ba2e",
   "metadata": {},
   "outputs": [],
   "source": [
    "from dask_jobqueue import SLURMCluster\n",
    "from dask.distributed import Client\n",
    "\n",
    "cluster = SLURMCluster(processes=4,  #By default Dask will run one Python process per job. \n",
    "                       # However, you can optionally choose to cut up that job into multiple processes\n",
    "                       cores=80, # size of a single job -- typically one node of the HPC cluster\n",
    "                       memory=\"376.2GB\",  # the max memory on the 80-core batch nodes, I believe\n",
    "                       walltime=\"04:00:00\",\n",
    "                       queue=\"batch\",\n",
    "                      )\n",
    "cluster.scale(1)\n",
    "client = Client(cluster)\n",
    "client"
   ]
  },
  {
   "cell_type": "code",
   "execution_count": null,
   "id": "0ecafcec-bb87-4b32-ba9d-8b9d199d6d4c",
   "metadata": {},
   "outputs": [],
   "source": [
    "years = range(2008,2018)  # Ten years of data 2008 through 2017\n",
    "variables = ['u', 'v', 't']\n",
    "path_to_cfsr_data = '/network/daes/cfsr/data/'\n",
    "ending = '.0p5.anl.nc'\n",
    "\n",
    "files = []\n",
    "for year in years:\n",
    "    for var in variables:\n",
    "        filepath = path_to_cfsr_data + str(year) + '/' + var + '.' + str(year) + ending\n",
    "        files.append(filepath)"
   ]
  },
  {
   "cell_type": "code",
   "execution_count": null,
   "id": "0f06bab6-6424-485f-8571-e66f217956a7",
   "metadata": {},
   "outputs": [],
   "source": [
    "cfsr_6hourly = xr.open_mfdataset(files, chunks={'time':10, 'lev': 32})\n",
    "cfsr_6hourly"
   ]
  },
  {
   "cell_type": "code",
   "execution_count": null,
   "id": "312e4ce1-dd5b-40e9-99a6-6b382ae11a13",
   "metadata": {},
   "outputs": [],
   "source": [
    "v = cfsr_6hourly.v\n",
    "u = cfsr_6hourly.u\n",
    "T = cfsr_6hourly.t"
   ]
  },
  {
   "cell_type": "markdown",
   "id": "14d234a3-8426-438b-926c-5d6e9b212fcf",
   "metadata": {},
   "source": [
    "Convert temperature to potential temperature:\n",
    "\n",
    "$$\\theta = T \\left(\\frac{p_{ref}}{p}\\right)^\\kappa $$\n",
    "\n",
    "where\n",
    "\n",
    "$$\\kappa = \\frac{R}{c_p} = 0.286$$"
   ]
  },
  {
   "cell_type": "code",
   "execution_count": null,
   "id": "65261cd2-23f6-45b5-966e-67b3e5101cda",
   "metadata": {},
   "outputs": [],
   "source": [
    "from climlab.utils.constants import Rd, cp, a, g\n",
    "\n",
    "sidereal_period = (23*60 + 56)*60 + 4.09053  # Earth's rotational period in seconds -- just shy of one day\n",
    "Omega = 2*np.pi / sidereal_period  # Earth's angular rotation rate (radians / second)"
   ]
  },
  {
   "cell_type": "code",
   "execution_count": null,
   "id": "22218109-4db8-422c-8cdb-61cd8028b1bc",
   "metadata": {},
   "outputs": [],
   "source": [
    "p = cfsr_6hourly.lev * 100.  # in units of Pa\n",
    "phi = np.deg2rad(cfsr_6hourly.lat)  # in units of radians\n",
    "\n",
    "from numpy import cos, sin\n",
    "\n",
    "f = 2*Omega*sin(phi)  # everyone's favorite Coriolis parameter"
   ]
  },
  {
   "cell_type": "code",
   "execution_count": null,
   "id": "77b0d8ce-c191-46a6-ad5e-a512a96bc8d8",
   "metadata": {},
   "outputs": [],
   "source": [
    "pref = 1000.  # reference pressure in hPa\n",
    "kappa = Rd/cp\n",
    "\n",
    "theta = T * (pref/cfsr_6hourly.lev)**kappa"
   ]
  },
  {
   "cell_type": "code",
   "execution_count": null,
   "id": "12e306b0-174a-4cd5-8a0b-69e1f2be5ba4",
   "metadata": {},
   "outputs": [],
   "source": [
    "def bracket(data):\n",
    "    return data.mean(dim='lon', skipna=True)\n",
    "\n",
    "def star(data):\n",
    "    return data - bracket(data)\n",
    "\n",
    "def bar(data, interval=cfsr_6hourly.time.dt.season):\n",
    "    return data.groupby(interval).mean(skipna=True)\n",
    "\n",
    "def prime(data, interval=cfsr_6hourly.time.dt.season):\n",
    "    return data.groupby(interval) - bar(data, interval=interval)"
   ]
  },
  {
   "cell_type": "markdown",
   "id": "40316f8b-bdbd-402d-b489-f03b394b1942",
   "metadata": {},
   "source": [
    "### Heat flux\n",
    "\n",
    "Compute the heat flux term \n",
    "\n",
    "$$\\overline{[v^* \\theta^*]}$$"
   ]
  },
  {
   "cell_type": "code",
   "execution_count": null,
   "id": "55c09706-b13c-4e5f-bebe-aff2cee02ae3",
   "metadata": {},
   "outputs": [],
   "source": [
    "heatflux = bar(bracket(star(v) * star(theta)))"
   ]
  },
  {
   "cell_type": "markdown",
   "id": "148f1a16-90a8-4aba-bd41-a6fdcc36acc2",
   "metadata": {},
   "source": [
    "Compute for solstice seasons:"
   ]
  },
  {
   "cell_type": "code",
   "execution_count": null,
   "id": "4b240367-d70b-4318-aaf0-7bb43aa4b579",
   "metadata": {},
   "outputs": [],
   "source": [
    "heatflux_computed = {}\n",
    "for season in ['DJF', 'JJA']:\n",
    "    heatflux_computed[season] = heatflux.sel(season=season).load()"
   ]
  },
  {
   "cell_type": "code",
   "execution_count": null,
   "id": "4eaeaa8c-60e2-422d-9b92-388534212138",
   "metadata": {},
   "outputs": [],
   "source": [
    "levels = np.arange(-400, 401, 5)\n",
    "\n",
    "fig, axes = plt.subplots(2,1,figsize=(8,12))\n",
    "\n",
    "for ind, season in enumerate(['DJF', 'JJA']):\n",
    "    ax = axes[ind]\n",
    "    thisflux = heatflux_computed[season]\n",
    "    CS = thisflux.plot.contour(ax=ax,\n",
    "                               yincrease=False,\n",
    "                               levels=levels,\n",
    "                               colors='royalblue',\n",
    "                               )\n",
    "    ax.clabel(CS, CS.levels, inline=True, fontsize=8)\n",
    "    ax.set_title('Eddy heat flux (K m/s), 2008-2017 {}'.format(season))\n",
    "    ax.grid()"
   ]
  },
  {
   "cell_type": "markdown",
   "id": "ed37e9fe-a430-42ad-ad88-363ae98af636",
   "metadata": {},
   "source": [
    "### Momentum flux\n",
    "\n",
    "Compute the momentum flux term\n",
    "\n",
    "$$ [u^* v^*] $$"
   ]
  },
  {
   "cell_type": "code",
   "execution_count": null,
   "id": "f3e98b15-71f5-4cdf-8ac6-a7cda9e664e8",
   "metadata": {},
   "outputs": [],
   "source": [
    "momentumflux = bar(bracket(star(v) * star(u)))"
   ]
  },
  {
   "cell_type": "code",
   "execution_count": null,
   "id": "25409756-d287-4e75-a829-8ce5c6938e80",
   "metadata": {},
   "outputs": [],
   "source": [
    "momentumflux_computed = {}\n",
    "for season in ['DJF', 'JJA']:\n",
    "    momentumflux_computed[season] = momentumflux.sel(season=season).load()"
   ]
  },
  {
   "cell_type": "code",
   "execution_count": null,
   "id": "92095d92-d941-4519-bd99-76f203f13126",
   "metadata": {},
   "outputs": [],
   "source": [
    "levels = np.arange(-100, 101, 10)\n",
    "\n",
    "fig, axes = plt.subplots(2,1,figsize=(8,12))\n",
    "\n",
    "for ind, season in enumerate(['DJF', 'JJA']):\n",
    "    ax = axes[ind]\n",
    "    thisflux = momentumflux_computed[season]\n",
    "    CS = thisflux.plot.contour(ax=ax,\n",
    "                               yincrease=False,\n",
    "                               levels=levels,\n",
    "                               colors='royalblue',\n",
    "                               )\n",
    "    ax.clabel(CS, CS.levels, inline=True, fontsize=8)\n",
    "    ax.set_title('Eddy momentum flux (m2/s2), 1988-2017 {}'.format(season))\n",
    "    ax.grid()"
   ]
  },
  {
   "cell_type": "markdown",
   "id": "56b6ceaa-4272-4845-9443-56913332fc10",
   "metadata": {},
   "source": [
    "### Stratification\n",
    "\n",
    "Compute the static stability term\n",
    "\n",
    "$$ \\sigma = \\frac{\\partial [\\overline{\\theta}]}{\\partial p} $$\n",
    "\n",
    "in units of K Pa$^{-1}$."
   ]
  },
  {
   "cell_type": "code",
   "execution_count": null,
   "id": "7cd3ece2-3d2b-41c6-b038-1728bd5052ca",
   "metadata": {},
   "outputs": [],
   "source": [
    "theta_zon = bar(bracket(theta))\n",
    "sigma = theta_zon.differentiate(coord='lev') / 100.  # convert from K / hPa to K / Pa"
   ]
  },
  {
   "cell_type": "code",
   "execution_count": null,
   "id": "a703526c-e5c4-4e87-b661-e92c5466dd27",
   "metadata": {},
   "outputs": [],
   "source": [
    "sigma_computed = {}\n",
    "for season in ['DJF', 'JJA']:\n",
    "    sigma_computed[season] = sigma.sel(season=season).load()"
   ]
  },
  {
   "cell_type": "code",
   "execution_count": null,
   "id": "ba7a2905-e607-4e2b-8068-e11db51ba004",
   "metadata": {},
   "outputs": [],
   "source": [
    "levels = np.arange(-0.1, 0., 0.0005)\n",
    "\n",
    "fig, axes = plt.subplots(2,1,figsize=(8,12))\n",
    "\n",
    "for ind, season in enumerate(['DJF', 'JJA']):\n",
    "    ax = axes[ind]\n",
    "    thissigma = sigma_computed[season]\n",
    "    CS = thissigma.plot.contour(ax=ax,\n",
    "                               yincrease=False,\n",
    "                               levels=levels,\n",
    "                               colors='royalblue',\n",
    "                               )\n",
    "    ax.clabel(CS, CS.levels, inline=True, fontsize=8)\n",
    "    ax.set_title('Stratification parameter (K / Pa), 2008-2017 {}'.format(season))\n",
    "    ax.grid()"
   ]
  },
  {
   "cell_type": "markdown",
   "id": "d53d7ee3-ff44-401e-8c19-f4a0ed35bd84",
   "metadata": {},
   "source": [
    "### The rescaled \"hat\" components\n",
    "\n",
    "Define the quantity $\\Delta$ as\n",
    "\n",
    "$$ \\Delta = \\frac{\\partial}{\\partial \\phi} \\hat{F}_\\phi + \\frac{\\partial}{\\partial p} \\hat{F}_p$$\n",
    "\n",
    "where\n",
    "\n",
    "\\begin{align*}\n",
    "\\hat{F}_\\phi &= \\frac{2\\pi a}{g} \\cos\\phi F_\\phi \\\\\n",
    "\\hat{F}_p &= \\frac{2 \\pi a^2}{g} \\cos\\phi F_p\n",
    "\\end{align*}\n",
    "\n",
    "so that $\\Delta d\\phi dp$ is the divergence of $\\vec{F}$ weighted by the mass of the annulus $d\\phi dp$. "
   ]
  },
  {
   "cell_type": "markdown",
   "id": "69b1f2f4-f1f3-4f5b-8122-646957bcefad",
   "metadata": {},
   "source": [
    "### Plotting the EP flux diagram\n",
    "\n",
    "We will plot contours of $\\Delta$ to best represent the eddy forcing of the mean flow. *Note that $\\Delta$ has dimensions of length cubed.*\n",
    "\n",
    "Similarly, we will represent $\\vec{F}$ by plotting arrows whose horizontal and vertical components are respectively proportional to $\\hat{F}_\\phi$ and $\\hat{F}_p$. However we re-scale the vertical component by a factor related to the aspect ratio of the plot: vertical distance per Pa / horizontal distance per radian.\n",
    "\n",
    "This allows for a more natural visual interpretation of the plot, since arrow lengths in the horizontal and vertical now correspond directly to their contribution to the divergence.\n",
    "\n",
    "The resulting graph is precisely the Eliassen-Palm cross-section defined by Edmon et al."
   ]
  },
  {
   "cell_type": "code",
   "execution_count": null,
   "id": "82f01edb-40bd-48df-acae-da2820c135ce",
   "metadata": {},
   "outputs": [],
   "source": [
    "def compute_ep_flux(heatflux, momentumflux, sigma, aspect=0.1):\n",
    "    '''aspect is vertical distance per hPa / horizontal distance per degree (in figure units)'''\n",
    "    \n",
    "    # Calculate the physical div F (not the hat version that is used for plotting, see Edmon et al.)\n",
    "    F_phi = -a * cos(phi) * momentumflux  # in units of m^3/s^2\n",
    "    F_p = f * a * cos(phi) * heatflux / sigma  # in units of Pa m^2/s^2   \n",
    "    # The rescaled \"hat\" components\n",
    "    Fhat_phi = (2*np.pi*a/g) * cos(phi) * F_phi  # in units of m^3\n",
    "    Fhat_p = (2*np.pi*a**2/g) * cos(phi) * F_p   # in units of Pa m^3\n",
    "    # Compute divergence\n",
    "    Delta_phi = Fhat_phi.differentiate(coord='lat')  # In m^3 / degree\n",
    "    Delta_phi *= 180./np.pi  # Now in m^3 / radian = m^3\n",
    "    Delta_p = Fhat_p.differentiate(coord='lev')  # Now in Pa m^3 / hPa\n",
    "    Delta_p /= 100.  # In Pa m^3 / Pa = m^3\n",
    "    Delta = Delta_phi + Delta_p  # in units of m^3\n",
    "    \n",
    "    aspect = 0.1 # vertical distance per hPa / horizontal distance per degree (in figure units)\n",
    "    A = aspect / 100. * np.pi / 180.  # vertical distance per Pa / horizontal distance per radian\n",
    "\n",
    "    # multiply the F_p component by A so that the arrows are properly scaled.\n",
    "    # The factor -1 is necessary to correct a sign issue with the quiver plot\n",
    "    # Presumably because the pressure axis is increasing downward\n",
    "    Fhat_scaled = xr.Dataset({\"Fhat_phi\": Fhat_phi, \"Fhat_p\": Fhat_p * A * -1})\n",
    "    \n",
    "    # If we plot the data as-is, there will be far too many arrows because of the high spatial resolution of the data.\n",
    "    # We will down-sample in the latitude dimension before plotting the arrows.\n",
    "    coarseFhat = Fhat_scaled.coarsen(lat=4, boundary=\"pad\").mean()\n",
    "    \n",
    "    return Delta, Delta_phi, Delta_p, coarseFhat"
   ]
  },
  {
   "cell_type": "code",
   "execution_count": null,
   "id": "39b298a2-bcfe-44ce-8720-c2eea6d38ca5",
   "metadata": {},
   "outputs": [],
   "source": [
    "Delta = {}\n",
    "Delta_phi = {}\n",
    "Delta_p = {}\n",
    "coarseFhat = {}\n",
    "\n",
    "for season in ['DJF', 'JJA']:\n",
    "    Delta[season], Delta_phi[season], Delta_p[season], coarseFhat[season] = \\\n",
    "        compute_ep_flux(heatflux_computed[season], \n",
    "                        momentumflux_computed[season],\n",
    "                        sigma_computed[season])"
   ]
  },
  {
   "cell_type": "code",
   "execution_count": null,
   "id": "4cfa470e-5a7e-4581-be68-29cbcdacd65f",
   "metadata": {},
   "outputs": [],
   "source": [
    "def epfluxplot(Delta, Fhat, label='DJF', aspect=0.1):\n",
    "    levels = [-100, -80, -60, -40,\n",
    "             -35, -30, -25, -20, -16, -12, -8, -4, 0,\n",
    "              4, 8, 12, 16, 20, 25, 30, 35, 40, 60, 80, 100,\n",
    "             ]\n",
    "\n",
    "    fig, ax = plt.subplots(figsize=(8,6))\n",
    "    ax.set_aspect(aspect)\n",
    "    CS = (Delta/1E15).plot.contour(ax=ax,\n",
    "                               x='lat', \n",
    "                               yincrease=False,\n",
    "                               levels=levels,\n",
    "                               cmap='seismic',\n",
    "                                   )\n",
    "    ax.clabel(CS, CS.levels, inline=True, fontsize=8)\n",
    "\n",
    "    Fhat.plot.quiver(ax=ax, x=\"lat\", y=\"lev\", \n",
    "                     u=\"Fhat_phi\", v=\"Fhat_p\", \n",
    "                    color='gray')\n",
    "    ax.set_title('EP flux and divergence, 2008-2017 {}'.format(label))\n",
    "    return fig, ax"
   ]
  },
  {
   "cell_type": "code",
   "execution_count": null,
   "id": "e08f1e29-b18b-4f69-b56c-c2c67359272c",
   "metadata": {},
   "outputs": [],
   "source": [
    "for season in ['DJF', 'JJA']:\n",
    "    fig, ax = epfluxplot(Delta[season], coarseFhat[season], label=season)"
   ]
  },
  {
   "cell_type": "markdown",
   "id": "f67c1aca-b69f-417d-8325-5cec378156a1",
   "metadata": {},
   "source": [
    "### Interpreting the EP flux diagram\n",
    "\n",
    "- In the winter hemisphere, the flux is convergent throughout much of the midlatitude troposphere, indicating that the eddy fluxes are acting to decelerate the zonal wind. \n",
    "- This effect is concentrated into three lobes, respectively centered at roughly (35º, 850 hPa), (50º, 500 hPa) and (20º, 250 hPa) in both winter hemispheres.\n",
    "- Strongest divergences and convergences occur near the lower boundary. \n",
    "    - Strongly divergent flux in the lowest levels throughout much of the mid-latitudes. \n",
    "    - Consistent with quasi-geostrophic theory in the presence of a meridional temperature gradient, which forces $F_p$ to zero at the boundary but strongly divergent immediately above the boundary. \n",
    "- The net effect of the eddy fluxes (in the winter season at least) is a \n",
    "    - deceleration of the zonal wind aloft, and \n",
    "    - acceleration near the surface. \n",
    "- In other words, the eddies are acting to neutralize the vertical shear, or through the thermal wind balance, to neutralize the meridional temperature gradient.\n",
    "\n",
    "The divergence near the boundary does not show a strong seasonal variation. Away from the boundary, the fluxes and their divergences become significantly weaker in the summer season. This is consistent with greater eddy activity in the winter season, especially in the NH.\n",
    "\n",
    "One of the big advantages of presenting the eddy flux data in the form of EP cross-sections is that it gives us an immediate visual indication of the relative importance of eddy heat and momentum fluxes to the eddy PV flux. \n",
    "\n",
    "- Arrows in our EP diagrams are nearly vertical throughout most of the troposphere, indicating the dominance of the eddy heat fluxes. \n",
    "- The arrows have a horizontal component in the subtropical upper troposphere. \n",
    "- This is the region where the momentum flux is strongly divergent, as we saw above.\n",
    "\n",
    "Our EP flux diagram gives a more complete picture of the eddy forcing of the mean flow than the original Eliassen-Palm cross-sections presented by {cite:t}`Edmon:1980jx`, due to the global span and higher resolution of our data."
   ]
  },
  {
   "cell_type": "markdown",
   "id": "f8c0eec7-05b4-4ef6-a31a-186f97384db2",
   "metadata": {},
   "source": [
    "## The residual overturning from reanalysis data\n",
    "\n",
    "We can define a residual mean overturning mass streamfunction $\\psi_{res}$ consistent with our TEM equations, like this:\n",
    "\n",
    "\\begin{align*}\n",
    "\\frac{2\\pi a \\cos\\phi}{g} v_{res} &= \\frac{\\partial \\psi_{res}}{\\partial p} \\\\\n",
    "\\frac{2\\pi a^2 \\cos\\phi}{g} \\omega_{res} &= -\\frac{\\partial \\psi_{res}}{\\partial \\phi}\n",
    "\\end{align*}\n",
    "\n",
    "To compute and plot $\\psi_{res}$, we can integrate the $v$ component in pressure:\n",
    "\n",
    "$$\\psi_{res} = \\frac{2\\pi a \\cos\\phi }{g} \\int_0^p v_{res} dp$$\n",
    "\n",
    "just like we've done with other overturning streamfunctions.\n",
    "\n",
    "The difference here is that $v_{res}$ is now \"corrected\" by the eddy heat fluxes:\n",
    "\n",
    "$$ v_{res} = [v] - \\frac{\\partial}{\\partial p} \\left( \\frac{ [v^*\\theta^*]}{\\sigma} \\right) $$\n",
    "\n",
    "We've already computed the neccessary terms for the data, so we can go ahead and take the integral:"
   ]
  },
  {
   "cell_type": "code",
   "execution_count": null,
   "id": "a753d3ea-7b2a-45c5-9f4d-2bfa52bf994d",
   "metadata": {},
   "outputs": [],
   "source": [
    "v_zon = bar(bracket(v))"
   ]
  },
  {
   "cell_type": "code",
   "execution_count": null,
   "id": "0980a671-cec1-4f65-acf2-06d5503542e8",
   "metadata": {},
   "outputs": [],
   "source": [
    "v_zon_computed = {}\n",
    "for season in ['DJF', 'JJA']:\n",
    "    v_zon_computed[season] = v_zon.sel(season=season).load()"
   ]
  },
  {
   "cell_type": "code",
   "execution_count": null,
   "id": "4f7e9c65-e270-4078-a8a9-8aa542b71c80",
   "metadata": {},
   "outputs": [],
   "source": [
    "vres = {}\n",
    "for season in ['DJF', 'JJA']:\n",
    "    vres[season] = v_zon_computed[season] - (heatflux_computed[season]/sigma_computed[season]).differentiate(coord='lev') / 100."
   ]
  },
  {
   "cell_type": "code",
   "execution_count": null,
   "id": "053e02f5-f511-413c-9ad3-5e39eefc0571",
   "metadata": {},
   "outputs": [],
   "source": [
    "psi_res = {}\n",
    "for season in ['DJF', 'JJA']:\n",
    "    # Use units of 10^9 kg/s\n",
    "    psi_res[season] = 2*np.pi*a*coslat/g * vres[season].cumulative_integrate(coord='lev') / 1E9 * 100\n",
    "    # Need to multiply by 100 because the 'lev' coordinate is in units of hPa, not Pa"
   ]
  },
  {
   "cell_type": "code",
   "execution_count": null,
   "id": "c929ccc2-4da7-4d55-b610-a4a78a5fa3ce",
   "metadata": {},
   "outputs": [],
   "source": [
    "psi_levels = np.arange(-240, 250, 20.)\n",
    "\n",
    "fig, axes = plt.subplots(2,1, figsize=(8,12))\n",
    "\n",
    "ax = axes[0]\n",
    "\n",
    "for ind, season in enumerate(['DJF', 'JJA']):\n",
    "    ax = axes[ind]\n",
    "    CSpsi = psi_res[season].plot.contour(ax=ax,\n",
    "                                       x='lat', \n",
    "                                       yincrease=False,\n",
    "                                       levels=psi_levels,\n",
    "                                       colors='royalblue',\n",
    "                                            )\n",
    "    ax.clabel(CSpsi, CSpsi.levels, inline=True, fontsize=8)\n",
    "    ax.set_title('Residual mean mass overturning (10^9 kg/s), 2008-2017 {}'.format(season))"
   ]
  },
  {
   "cell_type": "code",
   "execution_count": null,
   "id": "f004c437-12e4-45a5-a1d5-ef4a1c555c98",
   "metadata": {},
   "outputs": [],
   "source": [
    "#cluster.close()"
   ]
  }
 ],
 "metadata": {
  "kernelspec": {
   "display_name": "Python 3 August 2022 Environment",
   "language": "python",
   "name": "aug22"
  },
  "language_info": {
   "codemirror_mode": {
    "name": "ipython",
    "version": 3
   },
   "file_extension": ".py",
   "mimetype": "text/x-python",
   "name": "python",
   "nbconvert_exporter": "python",
   "pygments_lexer": "ipython3",
   "version": "3.10.5"
  }
 },
 "nbformat": 4,
 "nbformat_minor": 5
}
