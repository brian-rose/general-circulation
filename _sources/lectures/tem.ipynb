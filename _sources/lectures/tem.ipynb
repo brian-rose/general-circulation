{
 "cells": [
  {
   "cell_type": "markdown",
   "id": "71b78311-92b6-4593-a2db-4b7d08603320",
   "metadata": {},
   "source": [
    "# Effect of eddies on the zonal mean circulation\n",
    "\n",
    "## Motivation\n",
    "\n",
    "We saw at the [end of the last set of notes](https://brian-rose.github.io/general-circulation/lectures/hadley.html#effects-of-eddies-on-the-hadley-cell-qualitative-and-diagnostic-arguments) that both eddy momentum fluxes and eddy heat (buoyancy) fluxes are both involved in determing the zonal-mean flow:\n",
    "\n",
    "\\begin{align*}\n",
    "\\frac{\\partial [u]}{\\partial t} &= f[v] -\\frac{1}{a\\cos\\phi} \\frac{\\partial}{\\partial \\phi} ([u^*v^*] \\cos\\phi) \\\\\n",
    "\\frac{\\partial [b]}{\\partial t} &= -N^2 [w] -\\frac{1}{a\\cos\\phi} \\frac{\\partial}{\\partial \\phi} ( [v^* b^*] \\cos\\phi ) + \\dot{Q} \n",
    "\\end{align*}\n",
    "\n",
    "Let's consider the effects of an eddy heat flux on a frictionless, adiabatic system ($\\dot{Q} = 0$).\n",
    "\n",
    "At steady state, the thermodynamic equation tells us that we must have an Eulerian mean overturning circulation with vertical component\n",
    "\n",
    "$$ [w] = -\\frac{1}{a\\cos\\phi N^2} \\frac{\\partial}{\\partial \\phi} ( [v^* b^*] \\cos\\phi ) $$\n",
    "\n",
    "which in turn, by mass conservation, requires a horizontal component of the overturning $[v]$.\n",
    "\n",
    "But $[v]$ enters into the momentum equation through the Coriolis force.\n",
    "\n",
    "So, *eddy heat fluxes must **accelerate** the zonal mean zonal wind $[u]$ through Coriolis forces associated with the overturning circulation*. Eddy heat fluxes appear in the zonal mean momentum equation disguised as Coriolis force.\n",
    "\n",
    "Are you confused yet?\n",
    "\n",
    "Maybe there's a better way to express the **combined effect of eddy heat and momentum fluxes** that clarify under what conditions the eddies can accelerate the mean zonal flow $[u]$. \n",
    "\n",
    "[Related, we've also seen that the [Lorenz cycle](https://brian-rose.github.io/general-circulation/lectures/ape.html#diagram-of-the-lorenz-energy-cycle) reveals substantial conversion from eddy kinetic energy to kinetic energy of the mean flow]\n",
    "\n",
    "Along the way, we may also find a better way to think about the overturning circulation in a flow dominated by eddies."
   ]
  },
  {
   "cell_type": "markdown",
   "id": "ac7661ed-3974-4bd6-8129-9aaf432782a6",
   "metadata": {},
   "source": [
    "## The Transformed Eulerian Mean (TEM) or \"Residual Circulation\"\n",
    "\n",
    "### The residual overturning required by diabatic heating\n",
    "\n",
    "Define a \"residual\" vertical motion $w_{res}$ as the direct response to diabatic heating, accounting for the large cancellation between eddy heat flux convergence and adiabatic ascent:\n",
    "\n",
    "$$ \\frac{\\partial [b]}{\\partial t} = -N^2 w_{res} + \\dot{Q} $$\n",
    "\n",
    "where we have just wrapped the eddy heat flux term into $w_{res}$:\n",
    "\n",
    "$$ w_{res} = [w] + \\frac{1}{a\\cos\\phi N^2} \\frac{\\partial}{\\partial \\phi} ( [v^* b^*] \\cos\\phi ) $$\n",
    "\n",
    "So far, just clever notation.\n",
    "\n",
    "Now, let's define the horizonal component of the residual overturning $v_{res}$ to obey mass continuity:\n",
    "\n",
    "$$ \\frac{1}{a\\cos\\phi} \\frac{\\partial}{\\partial \\phi} \\left( v_{res} \\cos\\phi \\right) + \\frac{\\partial}{\\partial z} w_{res} = 0 $$\n",
    "\n",
    "So between $v_{res}$ and the Eulerian mean $[v]$ must be\n",
    "\n",
    "$$ v_{res} = [v] - \\frac{\\partial}{\\partial z} \\left( \\frac{[v^* b^*]}{N^2}  \\right)$$\n",
    "\n",
    "Together $v_{res}, w_{res}$ describe a residual overturning circulation specifically required by the diabatic heating!\n",
    "\n",
    "### Acceleration of the zonal mean wind\n",
    "\n",
    "Now let's use this to rewrite the momentum equation in terms of the Coriolis force due to $v_{res}$:\n",
    "\n",
    "\\begin{align*}\n",
    "\\frac{\\partial [u]}{\\partial t} &= f[v] -\\frac{1}{a\\cos\\phi} \\frac{\\partial}{\\partial \\phi} ([u^*v^*] \\cos\\phi) \\\\\n",
    "&= f\\left( v_{res} +  \\frac{\\partial}{\\partial z} \\left( \\frac{[v^* b^*]}{N^2}  \\right) \\right) -\\frac{1}{a\\cos\\phi} \\frac{\\partial}{\\partial \\phi} ([u^*v^*] \\cos\\phi)\n",
    "\\end{align*}\n",
    "\n",
    "or, rewriting with only eddy forcing terms on the RHS:\n",
    "\n",
    "$$ \\frac{\\partial [u]}{\\partial t} - f v_{res} = -\\frac{1}{a\\cos\\phi} \\frac{\\partial}{\\partial \\phi} ([u^*v^*] \\cos\\phi) + f \\frac{\\partial}{\\partial z} \\left( \\frac{[v^* b^*]}{N^2}  \\right) $$\n",
    "\n",
    "This is actually a deep result. $v_{res}$ is determined entirely by the zonal diabatic heating, regardless of what the eddies are doing. Our transformed momentum equation tells that there's a very specific combination of eddy heat and momemtum fluxes that accelerate the zonal mean wind. \n",
    "\n",
    "The transformed equation no longer has any \"hidden\" eddy effects -- it expresses more completely how the eddies drive the mean flow."
   ]
  },
  {
   "cell_type": "markdown",
   "id": "97ee3da4-afe2-4c6f-872f-ab6de1aca3e3",
   "metadata": {},
   "source": [
    "### The Eliassen-Palm flux vector\n",
    "\n",
    "It's useful and traditional to define a vector $\\vec{F}$ (in the latitude-height plane) whose divergence appears on the RHS of the momentum equation. That is, we want to write the Transformed Eulerian Mean system like this:\n",
    "\n",
    "\\begin{align*}\n",
    "\\frac{\\partial [u]}{\\partial t} - f v_{res} &= \\nabla \\cdot \\vec{F} \\\\\n",
    "\\frac{\\partial [b]}{\\partial t} &= -N^2 w_{res} + \\dot{Q} \n",
    "\\end{align*}"
   ]
  },
  {
   "cell_type": "markdown",
   "id": "b1ec9d6e-2afe-416f-b9c6-1d3e12479f63",
   "metadata": {},
   "source": [
    "From the transformed momentum equation above, we can see that\n",
    "- the vertical component of $\\vec{F}$ must be propotional to eddy heat flux\n",
    "- the horizontal component of $\\vec{F}$ must be proportional to eddy momentum flux (but in reverse direction)\n",
    "\n",
    "More precisely, we can define $\\vec{F}$ for this system like this:\n",
    "\n",
    "$$ \\vec{F} = -[u^* v^*] \\hat{j} + \\frac{f}{N^2} [v^* b^*] \\hat{k} $$\n",
    "\n",
    "The vector $\\vec{F}$ is called the Eliassen-Palm flux, after a pioneering paper by {cite:t}`Eliassen:1961qw`."
   ]
  },
  {
   "cell_type": "markdown",
   "id": "e09914ea-ec7d-4d38-8efb-460e1ca3bdfc",
   "metadata": {},
   "source": [
    "## A potential vorticity perspective\n",
    "\n",
    "### The idea\n",
    "\n",
    "We've been talking about combining momentum and thermodynamic constraints together into a single quantity $\\vec{F}$. That may sound familiar. \n",
    "\n",
    "Recall that under the Quasi-Geostrophic approximation, we boil down all the dynamics into a single prognostic scalar, the quasi-geostrophic potential vorticity (QGPV).  We might therefore expect a deep relationship between PV dynamics and the Eliassen-Palm flux $\\vec{F}$.\n",
    "\n",
    "And there is!\n",
    "\n",
    "### Zonal average QGPV equation\n",
    "\n",
    "Let's write\n",
    "\n",
    "\n",
    "[Need to fill in details here]\n",
    "\n",
    "The key result\n",
    "\n",
    "$$[v^*q^*] = \\nabla \\cdot \\vec{F} $$\n",
    "\n",
    "The divergence of the EP flux (which is a specific combination of eddy heat and momentum fluxes) is equivalent to a northward eddy flux of QGPV!\n",
    "\n",
    "So another form of the TEM equations is (under the quasi-geostrophic approximation):\n",
    "\n",
    "\\begin{align*}\n",
    "\\frac{\\partial [u]}{\\partial t} - f v_{res} &= [v^* q^*] \\\\\n",
    "\\frac{\\partial [b]}{\\partial t} &= -N^2 w_{res} + \\dot{Q} \n",
    "\\end{align*}\n",
    "\n",
    "### A perspective on the steady, balanced circulation\n",
    "\n",
    "For a balanced time-mean flow, our TEM equations thus say\n",
    "\n",
    "\\begin{align*}\n",
    " - f v_{res} &= [v^* q^*] \\\\\n",
    "N^2 w_{res} &=  \\dot{Q} \n",
    "\\end{align*}\n",
    "\n",
    "Now consider the fact that the diabatic heating tends to decrease from equator to pole. So $w_[res]$ might be upward near the equator and downward near the pole.\n",
    "\n",
    "We infer from this that $v_{res}$ must be poleward aloft (to conserve mass) -- i.e. $v_{res} > 0$. The residual circulation should look something like a big equator-to-pole scale Hadley cell!\n",
    "\n",
    "But this poleward residual circulation applies an *eastward* Coriolis force on the zonal wind. To have a steady balance, the eddies must be arranged to produce an equal and opposite *westward* force.\n",
    "\n",
    "We can infer from this that the eddies must be fluxing QGPV *equatorward*, i.e. $[v^* q^*] < 0$\n",
    "\n",
    "Since the planetary PV increases toward the poles, the eddies are thus flux PV down the mean gradient. Unlike for momentum, the eddies behave diffusively in the PV framework -- acting to transport PV from the high reservoir near the poles to the low reservoir near the equator."
   ]
  },
  {
   "cell_type": "markdown",
   "id": "4ec3ca06-0ce7-464c-9f29-7b66b5fde134",
   "metadata": {},
   "source": [
    "## TEM equations for the atmosphere\n",
    "\n",
    "The theory and diagnostic method are laid out in a well-known paper by {cite:t}`Edmon:1980jx`."
   ]
  },
  {
   "cell_type": "markdown",
   "id": "dcc7cc24-594e-459d-be30-4e4f67bfdfc6",
   "metadata": {},
   "source": [
    "## Plotting the Eliassen-Palm cross-section from reanalysis data"
   ]
  },
  {
   "cell_type": "markdown",
   "id": "6146eaa5-b03a-4f88-b46a-ca2e6f7a790f",
   "metadata": {},
   "source": [
    "We are going to make an updated version of this famous figure:\n",
    "\n",
    ":::{figure-md} markdown-fig\n",
    "<img src=\"../images/Edmon_Fig5.pdf\" alt=\"Eliassen-Palm cross-section\" width=\"800px\">\n",
    "\n",
    "Source: {cite:t}`Edmon:1980jx` (Their Figure 5). \n",
    ":::"
   ]
  },
  {
   "cell_type": "markdown",
   "id": "f8c0eec7-05b4-4ef6-a31a-186f97384db2",
   "metadata": {},
   "source": [
    "## The residual overturning from reanalysis data"
   ]
  },
  {
   "cell_type": "code",
   "execution_count": null,
   "id": "c9fe0eb0-1ecf-4509-93cf-1cf9086f1478",
   "metadata": {},
   "outputs": [],
   "source": []
  }
 ],
 "metadata": {
  "kernelspec": {
   "display_name": "Python 3 August 2022 Environment",
   "language": "python",
   "name": "aug22"
  },
  "language_info": {
   "codemirror_mode": {
    "name": "ipython",
    "version": 3
   },
   "file_extension": ".py",
   "mimetype": "text/x-python",
   "name": "python",
   "nbconvert_exporter": "python",
   "pygments_lexer": "ipython3",
   "version": "3.10.5"
  }
 },
 "nbformat": 4,
 "nbformat_minor": 5
}
