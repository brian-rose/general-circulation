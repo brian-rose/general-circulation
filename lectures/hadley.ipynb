{
 "cells": [
  {
   "cell_type": "markdown",
   "id": "ec5d02dc-54d9-4249-a7f6-83f469845f02",
   "metadata": {},
   "source": [
    "# Theories of the Hadley circulation"
   ]
  },
  {
   "cell_type": "markdown",
   "id": "db18a3ee-c1cf-44e1-b97a-d3d6594edd27",
   "metadata": {},
   "source": [
    "## Motivation\n",
    "\n",
    "We follow the classic paper by Held and Hou {cite}`Held:1980hu`.\n",
    "\n",
    "See also Lindzen's book, Vallis, etc."
   ]
  },
  {
   "cell_type": "markdown",
   "id": "b9967599-0d6b-420e-938c-48087df7d020",
   "metadata": {},
   "source": [
    "## Assumptions and governing equations\n",
    "\n",
    "We will make the following assumptions\n",
    "\n",
    "- We can model the troposphere as a Boussinesq system of depth $H$ (where $H$ is the tropopause height) on a sphere\n",
    "- The flow is *steady in time*\n",
    "- The flow is *zonally symmetric*, i.e. it has no variations in longitude\n",
    "- Turbulence and frictional effects can be modeled by a vertical down-gradient diffusion\n",
    "- Diabatic heating can be modeled by a Newtonian relaxation to a reference profile with a constant timescale $\\tau$\n",
    "\n",
    "### Governing equations\n",
    "\n",
    "We'll define the zonally symmetric overturning circulation vector\n",
    "\n",
    "$$ \\vec{v} = (v,w) $$\n",
    "\n",
    "And write the governing set of equations like this:\n",
    "\n",
    "\\begin{align*}\n",
    "\\text{Momentum:} & & \\nabla\\cdot (\\vec{v} u) - \\left( f + \\frac{u \\tan\\phi}{a} \\right) v &= \\frac{\\partial}{\\partial z} \\left( \\nu \\frac{\\partial u}{\\partial z} \\right) \\\\\n",
    "&& (\\vec{v} v) + \\left( f + \\frac{u \\tan\\phi}{a} \\right) u &= -\\frac{1}{a}\\frac{\\partial \\Phi}{\\partial \\phi} + \\frac{\\partial}{\\partial z} \\left( \\nu \\frac{\\partial v}{\\partial z} \\right) \\\\\n",
    "\\text{Continuity} & & \\nabla \\cdot \\vec{v} &= 0 \\\\\n",
    "\\text{Thermodynamic} & & \\nabla \\cdot ( \\vec{v} \\theta ) &= \\frac{\\partial}{\\partial z} \\left( \\nu \\frac{\\partial \\theta}{\\partial z} \\right) - \\frac{(\\theta-\\theta_{eq})}{\\tau} \\\\\n",
    "\\text{Hydrostatic} & & \\frac{\\partial \\Phi}{\\partial z} &= g \\frac{\\theta}{\\theta_0} \n",
    "\\end{align*}\n",
    "\n",
    "Here recall that the Boussinesq pressure is\n",
    "\n",
    "$$\\Phi = \\frac{p}{\\rho_0} $$\n",
    "\n",
    "and $\\theta_0, \\rho_0$ are reference values.\n",
    "\n",
    "An appropriate radiative relaxation timescale for the troposphere is $\\tau \\approx 30$ days."
   ]
  },
  {
   "cell_type": "markdown",
   "id": "3c435bbf-60c2-4f39-b2e6-1deac1b5408e",
   "metadata": {},
   "source": [
    "### The radiative-convective equilibrium temperature profile\n",
    "\n",
    "Following {citet}`Held:1980hu`, we define our equilibrium temperature like this\n",
    "\n",
    "$$ \\theta_{eq} = \\theta_0 \\left[ 1 - \\Delta_H \\sin^2\\phi + \\Delta_V \\left( \\frac{z}{H} - \\frac{1}{2} \\right) \\right] $$\n",
    "\n",
    "where we take\n",
    "\n",
    "- $\\theta_0 = 400$ K as a reference potential temperature\n",
    "- $\\theta_H = 0.3$ is the fractional potential temperature drop from equator to pole in radiative-convective equilibrium\n",
    "- $\\theta_V = 0.3$ is the fractional potential temperature drop from $z=H$ to the surface in radiative-convective equilibrium"
   ]
  },
  {
   "cell_type": "markdown",
   "id": "b57b9699-930e-467a-b7b3-bf31eb5e46a2",
   "metadata": {},
   "source": [
    "### Boundary conditions\n",
    "\n"
   ]
  }
 ],
 "metadata": {
  "kernelspec": {
   "display_name": "Python 3 (ipykernel)",
   "language": "python",
   "name": "python3"
  },
  "language_info": {
   "codemirror_mode": {
    "name": "ipython",
    "version": 3
   },
   "file_extension": ".py",
   "mimetype": "text/x-python",
   "name": "python",
   "nbconvert_exporter": "python",
   "pygments_lexer": "ipython3",
   "version": "3.10.5"
  }
 },
 "nbformat": 4,
 "nbformat_minor": 5
}
