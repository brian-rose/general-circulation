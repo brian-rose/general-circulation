{
 "cells": [
  {
   "cell_type": "markdown",
   "id": "92420881-5713-4c47-8519-2d84216155fe",
   "metadata": {},
   "source": [
    "# Decompositions of the circulation\n",
    "\n",
    "## Introduction\n",
    "\n",
    "In the previous chapter, we looked at time averaged quantities.\n",
    "\n",
    "It's often going to be useful to consider this total flow as consisting of a *mean* and a *fluctuating* part.\n",
    "\n",
    "## Time mean and zonal mean\n",
    "\n",
    "We consider two means that are often used: *time* mean and *zonal* mean, along with deviations from these means.\n",
    "\n",
    "We define the time mean as\n",
    "\n",
    "$$ \\overline{A} = \\frac{1}{T} \\int_0^T A dt $$\n",
    "\n",
    "and the zonal mean as\n",
    "\n",
    "$$ \\left[ A \\right] = \\frac{1}{2\\pi} \\int_0^{2\\pi} A d\\lambda $$\n",
    "\n",
    "where $t$ is time, $T$ is the total time interval over which we are averaging, $\\lambda$ is longitude, and $A$ is whatever variable we are averaging.\n",
    "\n",
    "This introduces a standardized notation, where the overbar will always indicate time averages and the square brackets will be reserved for zonal averages."
   ]
  },
  {
   "cell_type": "markdown",
   "id": "24634df7-78af-4175-b7af-f53c568adb11",
   "metadata": {},
   "source": [
    "### Example\n",
    "\n",
    "**Prove that the zonal and time mean mass flux across any latitude circle must vanish, for time scales greater than a year.**\n",
    "\n",
    "Let's start with the continuity (mass) equation in pressure coordinates:\n",
    "\n",
    "$$ \\nabla \\cdot \\vec{u} = 0 $$\n",
    "\n",
    "which we can write out in spherical coordinates like so:\n",
    "\n",
    "$$ \\frac{1}{a \\cos\\phi}\\frac{\\partial u }{\\partial \\lambda} + \\frac{1}{a \\cos\\phi} \\frac{\\partial \\left( v \\cos\\phi \\right)}{\\partial \\phi}  + \\frac{\\partial \\omega}{\\partial p} $$\n",
    "\n",
    "So if we take the time and zonal average of the continuity equation we get\n",
    "\n",
    "$$ \\left[ \\frac{1}{a \\cos\\phi}\\frac{\\partial \\overline{u} }{\\partial \\lambda} \\right] + \\left[ \\frac{1}{a \\cos\\phi} \\frac{\\partial \\left( \\overline{v} \\cos\\phi \\right)}{\\partial \\phi} \\right] + \\left[ \\frac{\\partial \\overline{\\omega}}{\\partial p} \\right] $$\n",
    "\n",
    "which we can also write as\n",
    "\n",
    "$$ \\frac{1}{2 \\pi a \\cos\\phi}\\int_0^{2\\pi} \\frac{\\partial \\overline{u} }{\\partial \\lambda} d\\lambda + \\frac{1}{a \\cos\\phi} \\frac{\\partial }{\\partial \\phi} \\left( \\left[ \\overline{v} \\right] \\cos\\phi \\right)  + \\frac{\\partial \\left[ \\overline{\\omega} \\right]}{\\partial p}  $$\n",
    "\n",
    "The first term is zero. **Why?**\n",
    "\n",
    "Let's now integrate over the depth of the atmosphere, from surface pressure $p_s$ to zero:\n",
    "\n",
    "$$  \\frac{1}{a \\cos\\phi} \\frac{\\partial }{\\partial \\phi} \\left( \\cos\\phi \\int_0^{p_s} \\left[\\overline{v}\\right]  dp \\right) + \\int_0^{p_s} \\frac{\\partial \\left[\\overline{\\omega}\\right]}{\\partial p} dp $$\n",
    "\n",
    "The second term is the integral of a derivative so resolves to only boundary contributions. At the TOA $\\omega(0) = 0$, and so the term simplifies to just\n",
    "\n",
    "$$\\left[\\overline{\\omega}\\right] |_{p_s}$$\n",
    "\n",
    "We cannot have flow in or out of the surface. The boundary condition is complicated by the fact that the surface pressure is not constant in time, but over timescales of a year or more we do not expect any time-averaged changes in surface pressure. Therefore\n",
    "\n",
    "$$\\left[\\overline{\\omega}\\right] |_{p_s} \\approx 0$$\n",
    "\n",
    "and the average mass budget reduces to\n",
    "\n",
    "$$ \\frac{\\partial}{\\partial \\phi} \\left( \\cos\\phi \\int_0^{p_s} \\left[\\overline{v}\\right]\\right) = 0 $$\n",
    "\n",
    "so \n",
    "\n",
    "$$  \\cos\\phi \\int_0^{p_s} \\left[\\overline{v}\\right] = C $$\n",
    "\n",
    "for some constant $C$\n",
    "\n",
    "The integral above is proportional to the next mass flux across latitude circles. So what is the constant $C$?\n",
    "\n",
    "One way to rationalize this is to consider the polar limit where $\\phi \\rightarrow \\frac{\\pi}{2}$ and thus $\\cos\\phi \\rightarrow 0$. This would then require that the integral becomes unboundedly large if $C\\ne 0$.\n",
    "\n",
    "We conclude that $C=0$ for all $\\phi$, and thus **the zonal and time mean mass flxu across any latitude circle must vanish**."
   ]
  },
  {
   "cell_type": "markdown",
   "id": "5cea3259-46d3-440c-af0e-2ef2ec1b5943",
   "metadata": {},
   "source": [
    "## Departures from the mean\n",
    "\n",
    "Let's introduce some more standardized notation for departures from our two means\n",
    "\n",
    "### Departure from time mean\n",
    "\n",
    "$$ A^\\prime \\equiv A - \\overline{A} $$\n",
    "\n",
    "### Departure from zonal mean\n",
    "\n",
    "$$ A^* \\equiv A - \\left[ A \\right] $$\n",
    "\n",
    "### Some identities\n",
    "\n",
    "Note that \n",
    "\n",
    "$$ \\overline{A^\\prime} = 0 $$\n",
    "\n",
    "and\n",
    "\n",
    "$$ \\left[ A^\\prime \\right] = 0 $$\n",
    "\n",
    "as long as the averaging is the same as that used to find the perturbations.\n",
    "\n",
    "Also the averages permute:\n",
    "\n",
    "\\begin{align*}\n",
    "\\left[ \\overline{A} \\right] &= \\overline{ \\left[ A \\right] } & \\overline{ \\overline{A} } &= \\overline{A} & \\left[ \\left[A \\right] \\right]\n",
    "\\end{align*}\n",
    "\n",
    "### Combining zonal and time expansions\n",
    "\n",
    "We can decompose the full field into four terms:\n",
    "\n",
    "$$ A = \\overline{A} + A^\\prime = \\left[\\overline{A}\\right] + \\overline{A}^* + \\left[ A^\\prime \\right] + A^{\\prime *} $$\n",
    "\n",
    "where our four terms are\n",
    "\n",
    "1. Zonally symmetric part of the steady time-averaged quantities, e.g. trade winds and midlatitude westerlies $\\left[ \\overline{u} \\right]$\n",
    "2. Asymmetric part of the time-averaged quantities, e.g. monsoon circulations, PNA, NAO (patterns which vary on only low frequencies)\n",
    "3. Instantaneous fluctutations of symmetric part of quantities, e.g. time fluctuations in Hadley cells, mean jet locations\n",
    "4. Instantaneous, zonally asymmetric part of quantities, e.g. transient cyclones and anticyclones"
   ]
  },
  {
   "cell_type": "code",
   "execution_count": 2,
   "id": "85f86390-fe5a-4f92-87d1-367a4dcd39ee",
   "metadata": {},
   "outputs": [],
   "source": [
    "import numpy as np\n",
    "import matplotlib.pyplot as plt\n",
    "import xarray as xr\n",
    "import cartopy.crs as ccrs"
   ]
  },
  {
   "cell_type": "code",
   "execution_count": null,
   "id": "eca716d9-6fe7-417e-b6e3-6356d0a08e7d",
   "metadata": {},
   "outputs": [],
   "source": [
    "#cfsr_path ="
   ]
  },
  {
   "cell_type": "code",
   "execution_count": null,
   "id": "eae35438-f228-4723-b8da-dd34a4ea5fa7",
   "metadata": {},
   "outputs": [],
   "source": [
    "# Plots of u, ubar, uprime, etc\n",
    "\n",
    "# instantaneous u on one day"
   ]
  },
  {
   "cell_type": "code",
   "execution_count": null,
   "id": "a619146d-e094-4f1b-a857-865f3844d4bb",
   "metadata": {},
   "outputs": [],
   "source": [
    "# [ubar] over one season\n"
   ]
  },
  {
   "cell_type": "code",
   "execution_count": null,
   "id": "dc3ea68c-8658-4a34-a30c-f141221b5595",
   "metadata": {},
   "outputs": [],
   "source": [
    "# bar(ustar) "
   ]
  },
  {
   "cell_type": "code",
   "execution_count": null,
   "id": "688c04c9-d9be-45c9-91d8-07ea891feb79",
   "metadata": {},
   "outputs": [],
   "source": [
    "# [uprime] "
   ]
  },
  {
   "cell_type": "markdown",
   "id": "2ffa8937-dfda-4183-a1ac-4a3773bb0e92",
   "metadata": {},
   "source": [
    "## Covariances between quantities\n",
    "\n",
    "We are often interested in covariances between two quantities, usually a component of the flow and another scalar (e.g. meridional wind and temperature)\n",
    "\n",
    "\\begin{align*}\n",
    "\\overline{AB} &= \\overline{\\left( \\overline{A} + A^\\prime \\right) \\left(\\overline{B} + B^\\prime \\right)} \\\\\n",
    "&= \\overline{\\overline{A} \\overline{B}} + \\overline{\\overline{A} B^\\prime} + \\overline{A^\\prime \\overline{B}} + \\overline{A^\\prime B^\\prime} \\\\\n",
    "&= \\overline{A}\\overline{B} + \\overline{A} \\overline{B^\\prime} + \\overline{B} \\overline{A^\\prime} + \\overline{A^\\prime B^\\prime} \\\\\n",
    "&= \\overline{A}\\overline{B} +  \\overline{A^\\prime B^\\prime}\n",
    "\\end{align*}\n",
    "\n",
    "The last term is the covariance of $A$ and $B$ in time.\n",
    "\n",
    "Similarly for the zonal average\n",
    "\n",
    "$$\\left[ AB \\right] = \\left[A\\right] \\left[B\\right] + \\left[ A^* B^* \\right] $$\n",
    "where the last term is the covariance of $A$ and $B$ is longitude.\n",
    "\n",
    "We can also combine the time and zonal means\n",
    "\n",
    "\\begin{align*}\n",
    "\\left[\\overline{AB}\\right] &= \\left[ \\overline{A}\\overline{B} + \\overline{A^\\prime B^\\prime} \\right] \\\\\n",
    "&= \\left[\\overline{A}\\right]\\left[\\overline{B}\\right] + \\left[ \\overline{A}^* \\overline{B}^* \\right] + \\left[\\overline{A^\\prime B^\\prime} \\right]\n",
    "\\end{align*}\n",
    "\n",
    "Three terms:\n",
    "1. Mean meridional component\n",
    "2. Stationary eddy component (zonal variations in time mean\n",
    "3. Transient eddy component (time variations in time mean)"
   ]
  },
  {
   "cell_type": "code",
   "execution_count": 3,
   "id": "ec43c5a3-dc9c-4bc6-9cc1-ed294ae8ab25",
   "metadata": {},
   "outputs": [],
   "source": [
    "# plots of bar(vT), bar(v) bar(T), bar(vprime Tprime)"
   ]
  },
  {
   "cell_type": "markdown",
   "id": "6d88bb68-e383-4490-a6d8-9fca62fce00f",
   "metadata": {},
   "source": [
    "### Dependence on averaging period\n",
    "\n",
    "The decomposition between transient and stationary fluxes depend on the chosen averaging period.\n",
    "\n",
    "For very short time periods, $\\left[\\overline{A^\\prime B^\\prime}\\right] \\rightarrow 0$. The transient eddies disappear and all fluctuations appear as stationary eddies.\n",
    "\n",
    "For timescales of ~3 months, the stationary eddies are seasonal features such as the Aleutian Low, and transient eddies are anything with residence times < 3 months (e.g. traveling synoptic systems)\n",
    "\n",
    "At 12 month timescale, we have mostly transient eddies but still some stationary features due to orographic forcing."
   ]
  },
  {
   "cell_type": "markdown",
   "id": "bfd33ce8-3503-436d-8b47-9040e57a3bb6",
   "metadata": {},
   "source": [
    "## Examples: eddy heat flux\n",
    "\n",
    "Let $A = v$ and $B = T$\n",
    "\n",
    "and let's consider the quantity\n",
    "\n",
    "$$ [\\overline{vT}] = [\\overline{v}][\\overline{T}] + [\\overline{v}^* \\overline{T}^*] + [\\overline{v^\\prime T^\\prime}] $$"
   ]
  },
  {
   "cell_type": "code",
   "execution_count": 4,
   "id": "a2fa3c72-ce86-40cf-989a-15b207b25693",
   "metadata": {},
   "outputs": [],
   "source": [
    "# line plot of three-term decomposition"
   ]
  },
  {
   "cell_type": "code",
   "execution_count": 5,
   "id": "39cab540-007f-418c-9059-af723a14defa",
   "metadata": {},
   "outputs": [],
   "source": [
    "# Same thing in opposite season"
   ]
  },
  {
   "cell_type": "code",
   "execution_count": null,
   "id": "19c14d5d-329b-4205-aeff-1105395def13",
   "metadata": {},
   "outputs": [],
   "source": []
  }
 ],
 "metadata": {
  "kernelspec": {
   "display_name": "Python 3 (ipykernel)",
   "language": "python",
   "name": "python3"
  },
  "language_info": {
   "codemirror_mode": {
    "name": "ipython",
    "version": 3
   },
   "file_extension": ".py",
   "mimetype": "text/x-python",
   "name": "python",
   "nbconvert_exporter": "python",
   "pygments_lexer": "ipython3",
   "version": "3.10.5"
  }
 },
 "nbformat": 4,
 "nbformat_minor": 5
}
