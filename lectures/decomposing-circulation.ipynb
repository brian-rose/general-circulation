{
 "cells": [
  {
   "cell_type": "markdown",
   "id": "800b4d60-0e25-4b1b-8046-ed2d3648049b",
   "metadata": {},
   "source": [
    "# Decompositions of the circulation\n",
    "\n",
    "## Introduction\n",
    "\n",
    "In the previous chapter, we looked at time averaged quantities.\n",
    "\n",
    "It's often going to be useful to consider this total flow as consisting of a *mean* and a *fluctuating* part.\n",
    "\n",
    "## Time mean and zonal mean\n",
    "\n",
    "We consider two means that are often used: *time* mean and *zonal* mean, along with deviations from these means.\n",
    "\n",
    "We define the time mean as\n",
    "\n",
    "$$ \\overline{A} = \\frac{1}{T} \\int_0^T A dt $$\n",
    "\n",
    "and the zonal mean as\n",
    "\n",
    "$$ \\left[ A \\right] = \\frac{1}{2\\pi} \\int_0^{2\\pi} A d\\lambda $$\n",
    "\n",
    "where $t$ is time, $T$ is the total time interval over which we are averaging, $\\lambda$ is longitude, and $A$ is whatever variable we are averaging.\n",
    "\n",
    "This introduces a standardized notation, where the overbar will always indicate time averages and the square brackets will be reserved for zonal averages."
   ]
  },
  {
   "cell_type": "markdown",
   "id": "c879360a-9c48-4d1a-ae86-4ec7e82779e1",
   "metadata": {},
   "source": [
    "### Example\n",
    "\n",
    "**Prove that the zonal and time mean mass flux across any latitude circle must vanish, for time scales greater than a year.**\n",
    "\n",
    "Let's start with the continuity (mass) equation in pressure coordinates:\n",
    "\n",
    "$$ \\nabla \\cdot \\vec{u} = 0 $$\n",
    "\n",
    "which we can write out in spherical coordinates like so:\n",
    "\n",
    "$$ \\frac{1}{a \\cos\\phi}\\frac{\\partial u }{\\partial \\lambda} + \\frac{1}{a \\cos\\phi} \\frac{\\partial \\left( v \\cos\\phi \\right)}{\\partial \\phi}  + \\frac{\\partial \\omega}{\\partial p} $$\n",
    "\n",
    "So if we take the time and zonal average of the continuity equation we get\n",
    "\n",
    "$$ \\left[ \\frac{1}{a \\cos\\phi}\\frac{\\partial \\overline{u} }{\\partial \\lambda} \\right] + \\left[ \\frac{1}{a \\cos\\phi} \\frac{\\partial \\left( \\overline{v} \\cos\\phi \\right)}{\\partial \\phi} \\right] + \\left[ \\frac{\\partial \\overline{\\omega}}{\\partial p} \\right] $$\n",
    "\n",
    "which we can also write as\n",
    "\n",
    "$$ \\frac{1}{2 \\pi a \\cos\\phi}\\int_0^{2\\pi} \\frac{\\partial \\overline{u} }{\\partial \\lambda} d\\lambda + \\frac{1}{a \\cos\\phi} \\frac{\\partial }{\\partial \\phi} \\left( \\left[ \\overline{v} \\right] \\cos\\phi \\right)  + \\frac{\\partial \\left[ \\overline{\\omega} \\right]}{\\partial p}  $$\n",
    "\n",
    "The first term is zero. **Why?**\n",
    "\n",
    "Let's now integrate over the depth of the atmosphere, from surface pressure $p_s$ to zero:\n",
    "\n",
    "$$  \\frac{1}{a \\cos\\phi} \\frac{\\partial }{\\partial \\phi} \\left( \\cos\\phi \\int_0^{p_s} \\left[\\overline{v}\\right]  dp \\right) + \\int_0^{p_s} \\frac{\\partial \\left[\\overline{\\omega}\\right]}{\\partial p} dp $$\n",
    "\n",
    "The second term is the integral of a derivative so resolves to only boundary contributions. At the TOA $\\omega(0) = 0$, and so the term simplifies to just\n",
    "\n",
    "$$\\left[\\overline{\\omega}\\right] |_{p_s}$$\n",
    "\n",
    "We cannot have flow in or out of the surface. The boundary condition is complicated by the fact that the surface pressure is not constant in time, but over timescales of a year or more we do not expect any time-averaged changes in surface pressure. Therefore\n",
    "\n",
    "$$\\left[\\overline{\\omega}\\right] |_{p_s} \\approx 0$$\n",
    "\n",
    "and the average mass budget reduces to\n",
    "\n",
    "$$ \\frac{\\partial}{\\partial \\phi} \\left( \\cos\\phi \\int_0^{p_s} \\left[\\overline{v}\\right]\\right) = 0 $$\n",
    "\n",
    "so \n",
    "\n",
    "$$  \\cos\\phi \\int_0^{p_s} \\left[\\overline{v}\\right] = C $$\n",
    "\n",
    "for some constant $C$\n",
    "\n",
    "The integral above is proportional to the next mass flux across latitude circles. So what is the constant $C$?\n",
    "\n",
    "One way to rationalize this is to consider the polar limit where $\\phi \\rightarrow \\frac{\\pi}{2}$ and thus $\\cos\\phi \\rightarrow 0$. This would then require that the integral becomes unboundedly large if $C\\ne 0$.\n",
    "\n",
    "We conclude that $C=0$ for all $\\phi$, and thus **the zonal and time mean mass flxu across any latitude circle must vanish**."
   ]
  },
  {
   "cell_type": "markdown",
   "id": "42928789-aa14-48af-bb14-12a6f906e494",
   "metadata": {},
   "source": [
    "## Departures from the mean\n",
    "\n",
    "Let's introduce some more standardized notation for departures from our two means\n",
    "\n",
    "### Departure from time mean\n",
    "\n",
    "$$ A^\\prime \\equiv A - \\overline{A} $$\n",
    "\n",
    "### Departure from zonal mean\n",
    "\n",
    "$$ A^* \\equiv A - \\left[ A \\right] $$\n",
    "\n",
    "### Some identities\n",
    "\n",
    "Note that \n",
    "\n",
    "$$ \\overline{A^\\prime} = 0 $$\n",
    "\n",
    "and\n",
    "\n",
    "$$ \\left[ A^\\prime \\right] = 0 $$\n",
    "\n",
    "as long as the averaging is the same as that used to find the perturbations.\n",
    "\n",
    "Also the averages permute:\n",
    "\n",
    "\\begin{align*}\n",
    "\\left[ \\overline{A} \\right] &= \\overline{ \\left[ A \\right] } & \\overline{ \\overline{A} } &= \\overline{A} & \\left[ \\left[A \\right] \\right]\n",
    "\\end{align*}\n",
    "\n",
    "### Combining zonal and time expansions\n",
    "\n",
    "We can decompose the full field into four terms:\n",
    "\n",
    "$$ A = \\overline{A} + A^\\prime = \\left[\\overline{A}\\right] + \\overline{A}^* + \\left[ A^\\prime \\right] + A^{\\prime *} $$\n",
    "\n",
    "where our four terms are\n",
    "\n",
    "1. Zonally symmetric part of the steady time-averaged quantities, e.g. trade winds and midlatitude westerlies $\\left[ \\overline{u} \\right]$\n",
    "2. Asymmetric part of the time-averaged quantities, e.g. monsoon circulations, PNA, NAO (patterns which vary on only low frequencies)\n",
    "3. Instantaneous fluctutations of symmetric part of quantities, e.g. time fluctuations in Hadley cells, mean jet locations\n",
    "4. Instantaneous, zonally asymmetric part of quantities, e.g. transient cyclones and anticyclones"
   ]
  },
  {
   "cell_type": "code",
   "execution_count": 2,
   "id": "13255fdc-66fb-4526-917a-547da4eeb2c3",
   "metadata": {},
   "outputs": [],
   "source": [
    "import numpy as np\n",
    "import matplotlib.pyplot as plt\n",
    "import xarray as xr\n",
    "import cartopy.crs as ccrs"
   ]
  },
  {
   "cell_type": "code",
   "execution_count": 3,
   "id": "fb22392b-189d-4e56-9198-13b626f3acd4",
   "metadata": {},
   "outputs": [],
   "source": [
    "#cfsr_path ="
   ]
  },
  {
   "cell_type": "code",
   "execution_count": 4,
   "id": "6e55d133-f040-42f0-a9fa-04d6a6bbcbf5",
   "metadata": {},
   "outputs": [],
   "source": [
    "# instantaneous u on one day"
   ]
  },
  {
   "cell_type": "code",
   "execution_count": 5,
   "id": "fcf1daaa-3947-4cae-b4c9-e1e4dd64f88d",
   "metadata": {},
   "outputs": [],
   "source": [
    "# [ubar] over one season\n",
    "\n"
   ]
  },
  {
   "cell_type": "code",
   "execution_count": 6,
   "id": "5cd2987f-65a0-47cc-9b84-f34314179da9",
   "metadata": {},
   "outputs": [],
   "source": [
    "# bar(ustar) "
   ]
  },
  {
   "cell_type": "code",
   "execution_count": 7,
   "id": "bc54d3ff-fd78-4651-b30d-abe482a43175",
   "metadata": {},
   "outputs": [],
   "source": [
    "# [uprime] "
   ]
  },
  {
   "cell_type": "markdown",
   "id": "b692428a-a347-4469-a7f6-fafc82e0a5ac",
   "metadata": {},
   "source": [
    "## Covariances between quantities\n",
    "\n",
    "We are often interested in covariances between two quantities, usually a component of the flow and another scalar (e.g. meridional wind and temperature)\n",
    "\n",
    "\\begin{align*}\n",
    "\\overline{AB} &= \\overline{\\left( \\overline{A} + A^\\prime \\right) \\left(\\overline{B} + B^\\prime \\right)} \\\\\n",
    "&= \\overline{\\overline{A} \\overline{B}} + \\overline{\\overline{A} B^\\prime} + \\overline{A^\\prime \\overline{B}} + \\overline{A^\\prime B^\\prime} \\\\\n",
    "&= \\overline{A}\\overline{B} + \\overline{A} \\overline{B^\\prime} + \\overline{B} \\overline{A^\\prime} + \\overline{A^\\prime B^\\prime} \\\\\n",
    "&= \\overline{A}\\overline{B} +  \\overline{A^\\prime B^\\prime}\n",
    "\\end{align*}\n",
    "\n",
    "The last term is the covariance of $A$ and $B$ in time.\n",
    "\n",
    "Similarly for the zonal average\n",
    "\n",
    "$$\\left[ AB \\right] = \\left[A\\right] \\left[B\\right] + \\left[ A^* B^* \\right] $$\n",
    "where the last term is the covariance of $A$ and $B$ is longitude.\n",
    "\n",
    "We can also combine the time and zonal means\n",
    "\n",
    "\\begin{align*}\n",
    "\\left[\\overline{AB}\\right] &= \\left[ \\overline{A}\\overline{B} + \\overline{A^\\prime B^\\prime} \\right] \\\\\n",
    "&= \\left[\\overline{A}\\right]\\left[\\overline{B}\\right] + \\left[ \\overline{A}^* \\overline{B}^* \\right] + \\left[\\overline{A^\\prime B^\\prime} \\right]\n",
    "\\end{align*}\n",
    "\n",
    "Three terms:\n",
    "1. Mean meridional component\n",
    "2. Stationary eddy component (zonal variations in time mean\n",
    "3. Transient eddy component (time variations in time mean)"
   ]
  },
  {
   "cell_type": "code",
   "execution_count": 9,
   "id": "7a78deb5-de8d-411c-8af1-7a4e5824f634",
   "metadata": {},
   "outputs": [],
   "source": [
    "# plots of bar(vT), bar(v) bar(T), bar(vprime Tprime)"
   ]
  },
  {
   "cell_type": "markdown",
   "id": "d2c0702a-83f8-44e4-934a-634c2046bf82",
   "metadata": {},
   "source": [
    "### Dependence on averaging period\n",
    "\n",
    "The decomposition between transient and stationary fluxes depend on the chosen averaging period.\n",
    "\n",
    "For very short time periods, $\\left[\\overline{A^\\prime B^\\prime}\\right] \\rightarrow 0$. The transient eddies disappear and all fluctuations appear as stationary eddies.\n",
    "\n",
    "For timescales of ~3 months, the stationary eddies are seasonal features such as the Aleutian Low, and transient eddies are anything with residence times < 3 months (e.g. traveling synoptic systems)\n",
    "\n",
    "At 12 month timescale, we have mostly transient eddies but still some stationary features due to orographic forcing."
   ]
  },
  {
   "cell_type": "markdown",
   "id": "b1547f2a-6fb1-40a0-ac84-bbd3b5773bbe",
   "metadata": {},
   "source": [
    "## Examples: eddy heat flux\n",
    "\n",
    "Let $A = v$ and $B = T$\n",
    "\n",
    "and let's consider the quantity\n",
    "\n",
    "$$ [\\overline{vT}] = [\\overline{v}][\\overline{T}] + [\\overline{v}^* \\overline{T}^*] + [\\overline{v^\\prime T^\\prime}] $$"
   ]
  },
  {
   "cell_type": "code",
   "execution_count": 11,
   "id": "2648edba-3b2c-4259-963e-f5c87ea1a61d",
   "metadata": {},
   "outputs": [],
   "source": [
    "# line plot of three-term decomposition"
   ]
  },
  {
   "cell_type": "code",
   "execution_count": 12,
   "id": "60e1448d-b6c6-49e0-b44a-338fe896276c",
   "metadata": {},
   "outputs": [],
   "source": [
    "# Same thing in opposite season"
   ]
  },
  {
   "cell_type": "code",
   "execution_count": null,
   "id": "c095ee94-e067-4da5-b0a8-a683f56ff6ca",
   "metadata": {},
   "outputs": [],
   "source": []
  }
 ],
 "metadata": {
  "kernelspec": {
   "display_name": "Python 3 August 2022 Environment",
   "language": "python",
   "name": "aug22"
  },
  "language_info": {
   "codemirror_mode": {
    "name": "ipython",
    "version": 3
   },
   "file_extension": ".py",
   "mimetype": "text/x-python",
   "name": "python",
   "nbconvert_exporter": "python",
   "pygments_lexer": "ipython3",
   "version": "3.10.5"
  }
 },
 "nbformat": 4,
 "nbformat_minor": 5
}
