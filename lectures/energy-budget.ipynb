{
 "cells": [
  {
   "cell_type": "markdown",
   "id": "d5578652-6913-4e30-8047-a88e95ebf991",
   "metadata": {},
   "source": [
    "# Energy Budget\n",
    "\n",
    "## Definitions\n",
    "\n",
    "There are four types of energy (per unit mass) that we need to keep track of in the fluid:\n",
    "\n",
    "1. $I = c_v T$ is the **internal energy** *(valid for an ideal gas, see e.g. {cite:t}`Vallis:bigbook2`)* -- this is a measure of the disorganized molecular-scale motion in the fluid\n",
    "2. $\\Phi = g z$ is the gravitational **potential energy**\n",
    "3. $L = L_v q$ is the **latent energy** associated with the evaporated water in the air ($L_v$ is the latent heat of vaporization and $q$ is the specific humidity)\n",
    "4. $K = \\frac{1}{2} \\left(u^2 + v^2 + w^2 \\right)$ is the **kinetic energy** of organized motion of the fluid\n",
    "\n",
    "We'll define the **total energy** per unit mass in the atmosphere as\n",
    "\n",
    "\\begin{align*}\n",
    "E &= I + \\Phi + L + K \\\\\n",
    "&= c_v T + gz + L_v q + \\frac{1}{2} \\left(u^2 + v^2 + w^2 \\right) \n",
    "\\end{align*}"
   ]
  },
  {
   "cell_type": "markdown",
   "id": "2804be22-6e4e-45cf-8376-ee011075e8a9",
   "metadata": {},
   "source": [
    "## Budget equations for energy components\n",
    "\n",
    "### Potential energy\n",
    "\n",
    "### Latent energy\n",
    "\n",
    "### Internal energy\n",
    "\n",
    "### Kinetic energy"
   ]
  },
  {
   "cell_type": "markdown",
   "id": "7d93dcf8-982b-4131-990b-c9426c089c25",
   "metadata": {},
   "source": [
    "## A total energy equation and global conservation\n",
    "\n",
    "After some work and cancellation of various conversion terms:\n",
    "\n",
    "$$ \\frac{DE}{Dt} = -\\alpha \\nabla \\cdot \\left( \\vec{v} p \\right) - \\alpha \\nabla \\cdot \\vec{F}_{rad} + D_h $$\n",
    "\n",
    "with $D_h = c_p D_T + L_v D_q$ the net surface enthalpy flux and $\\vec{F}_{rad}$ the radiative flux."
   ]
  },
  {
   "cell_type": "markdown",
   "id": "09c30ad1-683c-4d96-9a5b-3d52922d61e1",
   "metadata": {},
   "source": [
    "## Alternate form and Moist Static Energy\n",
    "\n",
    "We can rewrite the first law of thermodynamics as\n",
    "\n",
    "\\begin{align*}\n",
    "dQ &= dI + p d\\alpha \\\\\n",
    "&= dI + d(p\\alpha) - \\alpha dp \\\\\n",
    "&= d(c_v T + RT) - \\alpha dp \\\\\n",
    "&= d(c_p T ) - \\alpha dp \n",
    "\\begin{align*}\n",
    "\n",
    "where $c_p T$ is refered to as the **sensible energy** $S$\n",
    "\n",
    "Using this, we can define another form of total energy\n",
    "\n",
    "$$ \\mathcal{E} = S + \\Phi + L + K $$\n",
    "\n",
    "and we'll find it useful to define the **moist static energy** $m$ as the first three terms of $mathcal{E}$:\n",
    "\n",
    "$$ m = S + \\Phi + L = c_p T + g z + L_v q $$\n",
    "\n",
    "We'll see from the data that $K$ is typically a small fraction of $\\mathcal{E}$ so is often ignored in the total energy budget, and we will talk instead about fluxes of moist static energy rather than fluxes of total energy."
   ]
  },
  {
   "cell_type": "code",
   "execution_count": null,
   "id": "6efdd789-cd36-4ce0-8ec6-b89a96fd2d16",
   "metadata": {},
   "outputs": [],
   "source": []
  }
 ],
 "metadata": {
  "kernelspec": {
   "display_name": "Python 3 August 2022 Environment",
   "language": "python",
   "name": "aug22"
  },
  "language_info": {
   "codemirror_mode": {
    "name": "ipython",
    "version": 3
   },
   "file_extension": ".py",
   "mimetype": "text/x-python",
   "name": "python",
   "nbconvert_exporter": "python",
   "pygments_lexer": "ipython3",
   "version": "3.10.5"
  }
 },
 "nbformat": 4,
 "nbformat_minor": 5
}
